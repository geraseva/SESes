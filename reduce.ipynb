{
 "cells": [
  {
   "cell_type": "markdown",
   "metadata": {},
   "source": [
    "### Setup"
   ]
  },
  {
   "cell_type": "code",
   "execution_count": 1,
   "metadata": {},
   "outputs": [],
   "source": [
    "import sys,importlib\n",
    "import torch\n",
    "import torch.nn.functional as F\n",
    "\n",
    "import os\n",
    "import time\n",
    "from tqdm import tqdm\n",
    "import random\n",
    "import numpy as np\n",
    "import pandas as pd\n",
    "from IPython.display import clear_output\n",
    "\n",
    "import matplotlib.pyplot as plt\n",
    "import plotly.express as px\n",
    "\n",
    "#import pykeops\n",
    "#pykeops.clean_pykeops()\n",
    "\n",
    "%matplotlib inline "
   ]
  },
  {
   "cell_type": "code",
   "execution_count": 2,
   "metadata": {},
   "outputs": [],
   "source": [
    "try:\n",
    "    importlib.reload(sys.modules['dmasif_surface'])\n",
    "    importlib.reload(sys.modules['data'])\n",
    "\n",
    "except KeyError:\n",
    "    pass\n",
    "from dmasif_surface import atoms_to_points_normals\n",
    "from data import AtomSurfaceDataset\n",
    "from losses import chamfer_distance\n",
    "from IPython.display import clear_output"
   ]
  },
  {
   "cell_type": "markdown",
   "metadata": {},
   "source": [
    "### Оптимизируем параметры dmasif для тяжелых атомов"
   ]
  },
  {
   "cell_type": "code",
   "execution_count": null,
   "metadata": {},
   "outputs": [],
   "source": [
    "dataset=AtomSurfaceDataset(storage='structure_data.pkl') "
   ]
  },
  {
   "cell_type": "code",
   "execution_count": null,
   "metadata": {},
   "outputs": [],
   "source": [
    "xs=[]\n",
    "for data in tqdm(dataset):\n",
    "    xs.append((data['atom_rad']>1.2).sum().item()/data['atom_rad'].shape[0])\n",
    "\n",
    "print(np.mean(xs))\n",
    "print(20/np.mean(xs))"
   ]
  },
  {
   "cell_type": "markdown",
   "metadata": {},
   "source": [
    "Установим sup_sampling=34 чтобы скомпенсировать кол-во точек, генерируемых на каждый атом водорода."
   ]
  },
  {
   "cell_type": "code",
   "execution_count": null,
   "metadata": {},
   "outputs": [],
   "source": [
    "def comp_loss(dataset, args):\n",
    "    ch_losses=[]\n",
    "    norm_losses=[]\n",
    "    sizes=[]\n",
    "    for data in tqdm(dataset):\n",
    "        xyz=data['atom_xyz'][data['atom_rad']>1.2]\n",
    "        rad=data['atom_rad'][data['atom_rad']>1.2]*100\n",
    "        #xyz=data['atom_xyz']\n",
    "        #rad=data['atom_rad']*100\n",
    "        try:\n",
    "            dmasif_vert, dmasif_norm, _ = atoms_to_points_normals(xyz, \n",
    "                                                       torch.zeros(xyz.shape[0], dtype=int), \n",
    "                                                        atom_rad=rad,\n",
    "                                                        **args)\n",
    "            d_ch_loss, d_norm_loss=chamfer_distance( dmasif_vert, data['target_xyz'], \n",
    "                                             dmasif_norm, data['target_normals'])\n",
    "        except RuntimeError:\n",
    "            continue\n",
    "        ch_losses.append(d_ch_loss)\n",
    "        norm_losses.append(d_norm_loss)\n",
    "        sizes.append(dmasif_vert.shape[0])\n",
    "    return ch_losses, norm_losses, sizes\n"
   ]
  },
  {
   "cell_type": "code",
   "execution_count": null,
   "metadata": {},
   "outputs": [],
   "source": [
    "ch=[]\n",
    "no=[]\n",
    "ss=[]\n",
    "par=[1,1.05,1.1,1.15,1.2,1.25,1.3,1.35]\n",
    "for parameter in par:\n",
    "    args={'smoothness':0.5,'distance':parameter, 'sup_sampling':34, 'variance': 0.1 }\n",
    "    a, b, c=comp_loss(dataset[:103], args)\n",
    "    ch.append(np.mean(a))\n",
    "    no.append(np.mean(b))\n",
    "    ss.append(np.mean(c))\n",
    "    clear_output()\n",
    "    plt.figure(figsize=(10,3))\n",
    "    plt.subplot(131)\n",
    "    plt.title('chamfer')\n",
    "    plt.plot(par[:len(ch)],ch, label='chamfer')\n",
    "    plt.subplot(132)\n",
    "    plt.title('normal')\n",
    "    plt.plot(par[:len(no)],no, label='normal')\n",
    "    plt.subplot(133)\n",
    "    plt.title('size')\n",
    "    plt.plot(par[:len(ss)],ss, label='size')\n",
    "    plt.show()"
   ]
  },
  {
   "cell_type": "markdown",
   "metadata": {},
   "source": [
    "Установим параметр distance=1.25 для генерации поверхности только по тяжелым атомам"
   ]
  },
  {
   "cell_type": "markdown",
   "metadata": {},
   "source": [
    "### Martinize"
   ]
  },
  {
   "cell_type": "markdown",
   "metadata": {},
   "source": [
    "Рассчитаем идеальные положения псевдоатомов в системе С-Са-N"
   ]
  },
  {
   "cell_type": "code",
   "execution_count": 3,
   "metadata": {},
   "outputs": [
    {
     "name": "stdout",
     "output_type": "stream",
     "text": [
      "File exists: /home/domain/data/prog/pyrosetta/rosetta_database/rotamer/bbdep02.May.sortlib\n"
     ]
    }
   ],
   "source": [
    "import os\n",
    "from pymol import cmd\n",
    "import numpy as np\n",
    "\n",
    "ROTLIB=\"/home/domain/data/prog/pyrosetta/rosetta_database/rotamer/bbdep02.May.sortlib\"\n",
    "\n",
    "def readRotLib():\n",
    "    # Column indexes in rotamer library..\n",
    "    RES  = 0\n",
    "    PHI  = 1\n",
    "    PSI  = 2\n",
    "    PROB = 8\n",
    "    CHI1 = 9\n",
    "    CHI2 = 10\n",
    "    CHI3 = 11\n",
    "    CHI4 = 12\n",
    "    \n",
    "    rotdat = {}\n",
    "    if os.path.exists(ROTLIB):\n",
    "        print(\"File exists: \"+ROTLIB)\n",
    "        with open(ROTLIB, 'r') as f:\n",
    "            for line in f:\n",
    " \n",
    "                # Parse by whitespace (I believe format is white space and not fixed-width columns)\n",
    "                dat = line.split()\n",
    " \n",
    "                # Add to rotamer library in memory : \n",
    "                #   key format       RES:PHI_BIN:PSI_BIN\n",
    "                #   value format     PROB, CHI1, CHI2, CHI3, CHI4\n",
    "                key=dat[RES]+\":\"+dat[PHI]+\":\"+dat[PSI]\n",
    "                if key in rotdat:\n",
    "                    rotdat[key].append([ dat[PROB], dat[CHI1], dat[CHI2], dat[CHI3], dat[CHI4] ])\n",
    "                else:\n",
    "                    rotdat[key] = [ [ dat[PROB], dat[CHI1], dat[CHI2], dat[CHI3], dat[CHI4] ] ]\n",
    "        return rotdat\n",
    " \n",
    " \n",
    "    else:\n",
    "        print(\"Couldn't find Rotamer library\")\n",
    "        \n",
    "# Atoms for each side-chain angle for each residue\n",
    "CHIS = {}\n",
    "CHIS[\"ARG\"] = [ [\"N\",\"CA\",\"CB\",\"CG\" ],\n",
    "                [\"CA\",\"CB\",\"CG\",\"CD\" ],\n",
    "                [\"CB\",\"CG\",\"CD\",\"NE\" ],\n",
    "                [\"CG\",\"CD\",\"NE\",\"CZ\" ]\n",
    "              ]\n",
    " \n",
    "CHIS[\"ASN\"] = [ [\"N\",\"CA\",\"CB\",\"CG\" ],\n",
    "                [\"CA\",\"CB\",\"CG\",\"OD1\" ]\n",
    "              ]\n",
    " \n",
    "CHIS[\"ASP\"] = [ [\"N\",\"CA\",\"CB\",\"CG\" ],\n",
    "                [\"CA\",\"CB\",\"CG\",\"OD1\" ]\n",
    "              ]\n",
    "CHIS[\"CYS\"] = [ [\"N\",\"CA\",\"CB\",\"SG\" ]\n",
    "              ]\n",
    " \n",
    "CHIS[\"GLN\"] = [ [\"N\",\"CA\",\"CB\",\"CG\" ],\n",
    "                [\"CA\",\"CB\",\"CG\",\"CD\" ],\n",
    "                [\"CB\",\"CG\",\"CD\",\"OE1\"]\n",
    "              ]\n",
    " \n",
    "CHIS[\"GLU\"] = [ [\"N\",\"CA\",\"CB\",\"CG\" ],\n",
    "                [\"CA\",\"CB\",\"CG\",\"CD\" ],\n",
    "                [\"CB\",\"CG\",\"CD\",\"OE1\"]\n",
    "              ]\n",
    " \n",
    "CHIS[\"HIS\"] = [ [\"N\",\"CA\",\"CB\",\"CG\" ],\n",
    "                [\"CA\",\"CB\",\"CG\",\"ND1\"]\n",
    "              ]\n",
    " \n",
    "CHIS[\"ILE\"] = [ [\"N\",\"CA\",\"CB\",\"CG1\" ],\n",
    "                [\"CA\",\"CB\",\"CG1\",\"CD1\" ]\n",
    "              ]\n",
    " \n",
    "CHIS[\"LEU\"] = [ [\"N\",\"CA\",\"CB\",\"CG\" ],\n",
    "                [\"CA\",\"CB\",\"CG\",\"CD1\" ]\n",
    "              ]\n",
    " \n",
    "CHIS[\"LYS\"] = [ [\"N\",\"CA\",\"CB\",\"CG\" ],\n",
    "                [\"CA\",\"CB\",\"CG\",\"CD\" ],\n",
    "                [\"CB\",\"CG\",\"CD\",\"CE\"],\n",
    "                [\"CG\",\"CD\",\"CE\",\"NZ\"]\n",
    "              ]\n",
    " \n",
    "CHIS[\"MET\"] = [ [\"N\",\"CA\",\"CB\",\"CG\" ],\n",
    "                [\"CA\",\"CB\",\"CG\",\"SD\" ],\n",
    "                [\"CB\",\"CG\",\"SD\",\"CE\"]\n",
    "              ]\n",
    " \n",
    "CHIS[\"PHE\"] = [ [\"N\",\"CA\",\"CB\",\"CG\" ],\n",
    "                [\"CA\",\"CB\",\"CG\",\"CD1\" ]\n",
    "              ]\n",
    " \n",
    "CHIS[\"PRO\"] = [ [\"N\",\"CA\",\"CB\",\"CG\" ],\n",
    "                [\"CA\",\"CB\",\"CG\",\"CD\" ]\n",
    "              ]\n",
    " \n",
    "CHIS[\"SER\"] = [ [\"N\",\"CA\",\"CB\",\"OG\" ]\n",
    "              ]\n",
    " \n",
    "CHIS[\"THR\"] = [ [\"N\",\"CA\",\"CB\",\"OG1\" ]\n",
    "              ]\n",
    " \n",
    "CHIS[\"TRP\"] = [ [\"N\",\"CA\",\"CB\",\"CG\" ],\n",
    "                [\"CA\",\"CB\",\"CG\",\"CD1\"]\n",
    "              ]\n",
    " \n",
    "CHIS[\"TYR\"] = [ [\"N\",\"CA\",\"CB\",\"CG\" ],\n",
    "                [\"CA\",\"CB\",\"CG\",\"CD1\" ]\n",
    "              ]\n",
    " \n",
    "CHIS[\"VAL\"] = [ [\"N\",\"CA\",\"CB\",\"CG1\" ]\n",
    "              ]\n",
    "        \n",
    "rotamers=readRotLib()\n"
   ]
  },
  {
   "cell_type": "code",
   "execution_count": 4,
   "metadata": {},
   "outputs": [],
   "source": [
    "rot={}\n",
    "for key in rotamers:\n",
    "    if key.split(':')[0] not in rot:\n",
    "        rot[key.split(':')[0]]=[]\n",
    "    for x in rotamers[key]:\n",
    "        rot[key.split(':')[0]].append([float(y) for y in x])\n",
    "    #rot[key.split(':')[0]].append([float(x) for x in rotamers[key][0][1:]])"
   ]
  },
  {
   "cell_type": "code",
   "execution_count": 5,
   "metadata": {},
   "outputs": [],
   "source": [
    "for key in rot:\n",
    "    arr=np.array(rot[key])[:,1:]\n",
    "    w=np.array(rot[key])[:,0]\n",
    "    arr=arr[:,(arr!=0).any(0)]\n",
    "    # calculate histogram to find most frequent rotamers\n",
    "    H, edges=np.histogramdd(arr, bins=36, range=[(-180,180)]*arr.shape[1], weights=w)\n",
    "    # get rotamers that fall into the most frequent bin\n",
    "    # and find their median\n",
    "    mask=((np.digitize(arr, \n",
    "                   edges[0],\n",
    "                   right=True)-1)==np.array(np.unravel_index(H.argmax(),\n",
    "                                                            H.shape))[None,:]).all(1)\n",
    "    rot[key]=np.median(arr[mask],axis=0)"
   ]
  },
  {
   "cell_type": "code",
   "execution_count": 6,
   "metadata": {},
   "outputs": [],
   "source": [
    "def set_rotamer(sel, chi1, chi2=0,chi3=0,chi4=0):\n",
    "    at = cmd.get_model(\"byres (\"+sel+\")\").atom[0]\n",
    " \n",
    "    l = [chi1,chi2,chi3,chi4]\n",
    "    for i in range(len(CHIS[at.resn])):\n",
    "        pymol.editing.set_dihedral(sel + ' and name '+CHIS[at.resn][i][0],\n",
    "                             sel + ' and name '+CHIS[at.resn][i][1],\n",
    "                             sel + ' and name '+CHIS[at.resn][i][2],\n",
    "                             sel + ' and name '+CHIS[at.resn][i][3], str(l[i]))\n",
    " \n",
    "    # Remove some objects that got created\n",
    "    cmd.delete(\"pk1\")\n",
    "    cmd.delete(\"pk2\")\n",
    "    cmd.delete(\"pkmol\")\n",
    " "
   ]
  },
  {
   "cell_type": "code",
   "execution_count": 7,
   "metadata": {},
   "outputs": [],
   "source": [
    "def rotate_3_points(N, Ca, C, non_ideal=False, eps=0):\n",
    "    \n",
    "    v1 = C-Ca\n",
    "    v2 = N-Ca\n",
    "    e1 = v1/(np.linalg.norm(v1)+eps)\n",
    "    u2 = v2- (e1*v2).sum()*e1\n",
    "    e2 = u2/(np.linalg.norm(u2)+eps)\n",
    "    e3 = np.cross(e1, e2)\n",
    "    R = np.stack([e1, e2, e3], axis=-1)\n",
    "    \n",
    "    return R, Ca"
   ]
  },
  {
   "cell_type": "code",
   "execution_count": 8,
   "metadata": {},
   "outputs": [],
   "source": [
    "def get_coords_aa(aa):\n",
    "    cmd.reinitialize()\n",
    "    cmd.editor.cmd.editor.attach_amino_acid('pk1',aa.lower(),ss=1)\n",
    "    if aa in CHIS:\n",
    "        set_rotamer(aa,*rot[aa])\n",
    "    atomdict={}\n",
    "    for atom in cmd.get_model(\"byres (\"+aa+\")\").atom:\n",
    "        name=atom.name\n",
    "        if name[0].isdigit():\n",
    "            name=name[1:]+name[0]\n",
    "        atomdict[name]=np.array(atom.coord)\n",
    "    R, Ca=rotate_3_points(atomdict['N'],atomdict['CA'],atomdict['C'])\n",
    "    for atom in atomdict:\n",
    "        atomdict[atom]=((atomdict[atom]-Ca)*R.T).sum(1).round(4)    \n",
    "    \n",
    "    return atomdict"
   ]
  },
  {
   "cell_type": "code",
   "execution_count": 9,
   "metadata": {},
   "outputs": [
    {
     "data": {
      "text/plain": [
       "{'ARG': array([ -67.7,  179.1, -179. ,  176.3]),\n",
       " 'ASN': array([-65.7, -63.9]),\n",
       " 'ASP': array([-172.3,   -0.9]),\n",
       " 'CYS': array([-64.3]),\n",
       " 'GLN': array([-67.5, 177.6,  -1.1]),\n",
       " 'GLU': array([-67.6, 177.8,  -2.2]),\n",
       " 'HIS': array([-63.7, -72.9]),\n",
       " 'ILE': array([-63.8, 170.1]),\n",
       " 'LEU': array([-64.7, 174.5]),\n",
       " 'LYS': array([ -67.1, -179.4, -179.4,  179.5]),\n",
       " 'MET': array([-65.8, -61.8, -69.4]),\n",
       " 'PHE': array([-178.3,   78. ]),\n",
       " 'PRO': array([ 27. , -34.6,  27.7]),\n",
       " 'SER': array([65.]),\n",
       " 'THR': array([61.1]),\n",
       " 'TRP': array([-67.4, 100.3]),\n",
       " 'TYR': array([-179. ,   77.3]),\n",
       " 'VAL': array([-61.8])}"
      ]
     },
     "execution_count": 9,
     "metadata": {},
     "output_type": "execute_result"
    }
   ],
   "source": [
    "rot"
   ]
  },
  {
   "cell_type": "code",
   "execution_count": 10,
   "metadata": {},
   "outputs": [],
   "source": [
    "# from https://github.com/baker-laboratory/rf_diffusion_all_atom/blob/main/chemical.py\n",
    "\n",
    "num2aa=[\n",
    "    'ALA','ARG','ASN','ASP','CYS',\n",
    "    'GLN','GLU','GLY','HIS','ILE',\n",
    "    'LEU','LYS','MET','PHE','PRO',\n",
    "    'SER','THR','TRP','TYR','VAL',\n",
    "    'UNK','MAS',\n",
    "    ]\n"
   ]
  },
  {
   "cell_type": "code",
   "execution_count": 11,
   "metadata": {},
   "outputs": [
    {
     "name": "stdout",
     "output_type": "stream",
     "text": [
      " PyMOL not running, entering library mode (experimental)\n"
     ]
    },
    {
     "data": {
      "text/plain": [
       "[{'N': array([-0.5224,  1.3633,  0.    ]),\n",
       "  'CA': array([0., 0., 0.]),\n",
       "  'C': array([1.5101, 0.    , 0.    ]),\n",
       "  'O': array([2.1662, 1.0484, 0.011 ]),\n",
       "  'CB': array([-0.5959, -0.7282, -1.217 ]),\n",
       "  'H': array([0.1274, 2.2262, 0.    ]),\n",
       "  'HA': array([-0.3283, -0.5045,  0.928 ]),\n",
       "  'HB1': array([-1.7019, -0.7509, -1.181 ]),\n",
       "  'HB2': array([-0.3141, -0.2434, -2.172 ]),\n",
       "  'HB3': array([-0.2587, -1.779 , -1.274 ])},\n",
       " {'N': array([-0.522 ,  1.3636,  0.    ]),\n",
       "  'CA': array([0., 0., 0.]),\n",
       "  'C': array([1.5105, 0.    , 0.    ]),\n",
       "  'O': array([2.1618, 1.0416, 0.0232]),\n",
       "  'CB': array([-0.5669, -0.7536, -1.2366]),\n",
       "  'CG': array([-2.0964, -1.0302, -1.2083]),\n",
       "  'CD': array([-2.5757, -1.7574, -2.4754]),\n",
       "  'NE': array([-4.0507, -1.9735, -2.4025]),\n",
       "  'CZ': array([-4.7973, -2.5109, -3.3626]),\n",
       "  'NH1': array([-4.3188, -2.9264, -4.5017]),\n",
       "  'NH2': array([-6.0714, -2.6288, -3.1581]),\n",
       "  'H': array([9.5600e-02, 2.1829e+00, 6.0000e-04]),\n",
       "  'HA': array([-0.3345, -0.4943,  0.9317]),\n",
       "  'HB2': array([-0.0101, -1.7057, -1.3595]),\n",
       "  'HB3': array([-0.3289, -0.1773, -2.1538]),\n",
       "  'HG2': array([-2.6376, -0.0698, -1.0831]),\n",
       "  'HG3': array([-2.3565, -1.6377, -0.3173]),\n",
       "  'HD2': array([-2.0371, -2.726 , -2.5697]),\n",
       "  'HD3': array([-2.3052, -1.1585, -3.3714]),\n",
       "  'HE': array([-4.5832, -1.702 , -1.5698]),\n",
       "  'HH11': array([-3.308 , -2.8059, -4.5987]),\n",
       "  'HH12': array([-4.9591, -3.3271, -5.189 ]),\n",
       "  'HH21': array([-6.4282, -2.2987, -2.2594]),\n",
       "  'HH22': array([-6.628 , -3.0423, -3.908 ])},\n",
       " {'N': array([-0.5223,  1.3633,  0.    ]),\n",
       "  'CA': array([0., 0., 0.]),\n",
       "  'C': array([ 1.5106, -0.    ,  0.    ]),\n",
       "  'O': array([2.1629, 1.0433, 0.    ]),\n",
       "  'CB': array([-0.5506, -0.7667, -1.237 ]),\n",
       "  'CG': array([-2.0604, -1.0252, -1.2773]),\n",
       "  'ND2': array([-2.7655, -0.4944, -2.2402]),\n",
       "  'OD1': array([-2.6228, -1.7288, -0.4514]),\n",
       "  'H': array([0.1278, 2.2255, 0.    ]),\n",
       "  'HA': array([-0.3272, -0.5006,  0.93  ]),\n",
       "  'HB2': array([-0.0307, -1.7359, -1.3527]),\n",
       "  'HB3': array([-0.2981, -0.2091, -2.1602]),\n",
       "  'HD21': array([-3.7246, -0.8501, -2.2628]),\n",
       "  'HD22': array([-2.2537,  0.0115, -2.9623])},\n",
       " {'N': array([-0.524,  1.363,  0.   ]),\n",
       "  'CA': array([0., 0., 0.]),\n",
       "  'C': array([1.5095, 0.    , 0.    ]),\n",
       "  'O': array([2.1669, 1.0524, 0.    ]),\n",
       "  'CB': array([-0.5558, -0.7989, -1.212 ]),\n",
       "  'CG': array([-0.2255, -2.2987, -1.2223]),\n",
       "  'OD1': array([ 0.4631, -2.7761, -0.297 ]),\n",
       "  'OD2': array([-0.6202, -2.9903, -2.1841]),\n",
       "  'H': array([0.1255, 2.2255, 0.    ]),\n",
       "  'HA': array([-0.3279, -0.4967,  0.933 ]),\n",
       "  'HB2': array([-0.1788, -0.3645, -2.156 ]),\n",
       "  'HB3': array([-1.6536, -0.7167, -1.2639])},\n",
       " {'N': array([-0.5231,  1.3633,  0.    ]),\n",
       "  'CA': array([0., 0., 0.]),\n",
       "  'C': array([1.5105, 0.    , 0.    ]),\n",
       "  'O': array([2.1676, 1.051 , 0.    ]),\n",
       "  'CB': array([-0.5891, -0.7507, -1.21  ]),\n",
       "  'SG': array([-2.3821, -0.9121, -1.0517]),\n",
       "  'H': array([0.128 , 2.2254, 0.    ]),\n",
       "  'HA': array([-0.3283, -0.4975,  0.931 ]),\n",
       "  'HB2': array([-0.1386, -1.7582, -1.3214]),\n",
       "  'HB3': array([-0.3786, -0.2164, -2.1534]),\n",
       "  'HG': array([-2.3984, -2.2033, -0.7298])},\n",
       " {'N': array([-0.5242,  1.362 ,  0.    ]),\n",
       "  'CA': array([0., 0., 0.]),\n",
       "  'C': array([1.5103, 0.    , 0.    ]),\n",
       "  'O': array([2.1609, 1.0429, 0.    ]),\n",
       "  'CB': array([-0.5534, -0.7438, -1.236 ]),\n",
       "  'CG': array([-2.0915, -1.0279, -1.2397]),\n",
       "  'CD': array([-2.7215, -1.713 , -2.4589]),\n",
       "  'NE2': array([-4.0074, -1.9549, -2.4821]),\n",
       "  'OE1': array([-2.0458, -2.0196, -3.4292]),\n",
       "  'H': array([0.0537, 2.1293, 0.    ]),\n",
       "  'HA': array([-0.3345, -0.5092,  0.923 ]),\n",
       "  'HB2': array([-0.0095, -1.7059, -1.3415]),\n",
       "  'HB3': array([-0.2999, -0.1647, -2.1455]),\n",
       "  'HG2': array([-2.6512, -0.0913, -1.0601]),\n",
       "  'HG3': array([-2.3645, -1.6773, -0.388 ]),\n",
       "  'HE21': array([-4.3563, -2.3536, -3.3552]),\n",
       "  'HE22': array([-4.5256, -1.6121, -1.6707])},\n",
       " {'N': array([-0.5231,  1.3633,  0.    ]),\n",
       "  'CA': array([0., 0., 0.]),\n",
       "  'C': array([1.5095, 0.    , 0.    ]),\n",
       "  'O': array([2.1666, 1.051 , 0.    ]),\n",
       "  'CB': array([-0.5436, -0.7709, -1.237 ]),\n",
       "  'CG': array([-2.079 , -1.0639, -1.2322]),\n",
       "  'CD': array([-2.6826, -1.7679, -2.4332]),\n",
       "  'OE1': array([-1.9815, -2.0689, -3.4184]),\n",
       "  'OE2': array([-3.9005, -2.0355, -2.3685]),\n",
       "  'H': array([0.127 , 2.2254, 0.    ]),\n",
       "  'HA': array([-0.3396, -0.5092,  0.92  ]),\n",
       "  'HB2': array([-0.0033, -1.7335, -1.3454]),\n",
       "  'HB3': array([-0.3011, -0.2161, -2.1639]),\n",
       "  'HG2': array([-2.6613, -0.1389, -1.0916]),\n",
       "  'HG3': array([-2.3581, -1.7212, -0.3924])},\n",
       " {'N': array([-0.523 ,  1.3632, -0.    ]),\n",
       "  'CA': array([0., 0., 0.]),\n",
       "  'C': array([1.5095, 0.    , 0.    ]),\n",
       "  'O': array([2.1635e+00, 1.0462e+00, 2.0000e-04]),\n",
       "  'H': array([ 1.271e-01,  2.226e+00, -2.000e-04]),\n",
       "  'HA3': array([-0.3477, -0.4868, -0.8629]),\n",
       "  'HA': array([-0.34  , -0.5149,  0.9182])},\n",
       " {'N': array([-0.5242,  1.363 , -0.    ]),\n",
       "  'CA': array([0., 0., 0.]),\n",
       "  'C': array([ 1.5096, -0.    ,  0.    ]),\n",
       "  'O': array([ 2.1669e+00,  1.0517e+00, -9.0000e-04]),\n",
       "  'CB': array([-0.5364, -0.6693, -1.2762]),\n",
       "  'CG': array([-2.0328, -0.7839, -1.2739]),\n",
       "  'CD2': array([-2.8472,  0.007 , -2.0735]),\n",
       "  'ND1': array([-2.7825, -1.6664, -0.4995]),\n",
       "  'CE1': array([-4.0224, -1.3275, -0.8981]),\n",
       "  'NE2': array([-4.1496, -0.3456, -1.8315]),\n",
       "  'H': array([ 1.2600e-01,  2.2251e+00, -5.0000e-04]),\n",
       "  'HA': array([-0.3156, -0.4792,  0.9422]),\n",
       "  'HB2': array([-0.1172, -1.6876, -1.4011]),\n",
       "  'HB3': array([-0.2433, -0.1166, -2.1931]),\n",
       "  'HD2': array([-2.4841,  0.7653, -2.7612]),\n",
       "  'HE1': array([-4.8542, -1.8589, -0.4549]),\n",
       "  'HE2': array([-5.0053,  0.0429, -2.2539])},\n",
       " {'N': array([-0.5233,  1.3632,  0.    ]),\n",
       "  'CA': array([0., 0., 0.]),\n",
       "  'C': array([ 1.5093, -0.    ,  0.    ]),\n",
       "  'O': array([2.1662, 1.0518, 0.    ]),\n",
       "  'CB': array([-0.5889, -0.8435, -1.203 ]),\n",
       "  'CG1': array([-2.1345, -1.0655, -1.1481]),\n",
       "  'CG2': array([ 0.096 , -2.2367, -1.358 ]),\n",
       "  'CD1': array([-2.7725, -1.6729, -2.4148]),\n",
       "  'H': array([0.1263, 2.2258, 0.    ]),\n",
       "  'HA': array([-0.3139, -0.4781,  0.946 ]),\n",
       "  'HB': array([-0.3823, -0.2646, -2.1279]),\n",
       "  'HG12': array([-2.6426, -0.0959, -0.9893]),\n",
       "  'HG13': array([-2.4042, -1.6678, -0.2586]),\n",
       "  'HG21': array([ 1.1854, -2.1701, -1.5233]),\n",
       "  'HG22': array([-0.0631, -2.8794, -0.4712]),\n",
       "  'HG23': array([-0.2808, -2.7963, -2.2333]),\n",
       "  'HD11': array([-2.5545, -1.0672, -3.3149]),\n",
       "  'HD12': array([-2.4216, -2.7014, -2.6147]),\n",
       "  'HD13': array([-3.8728, -1.728 , -2.3206])},\n",
       " {'N': array([-0.5222,  1.3634,  0.    ]),\n",
       "  'CA': array([0., 0., 0.]),\n",
       "  'C': array([ 1.5099, -0.    ,  0.    ]),\n",
       "  'O': array([2.1678, 1.0514, 0.    ]),\n",
       "  'CB': array([-0.5553, -0.7977, -1.214 ]),\n",
       "  'CG': array([-2.0828, -1.0706, -1.272 ]),\n",
       "  'CD1': array([-2.4489, -1.7449, -2.6017]),\n",
       "  'CD2': array([-2.5767, -1.935 , -0.0996]),\n",
       "  'H': array([0.0948, 2.182 , 0.    ]),\n",
       "  'HA': array([-0.3098, -0.4928,  0.939 ]),\n",
       "  'HB2': array([-0.0269, -1.77  , -1.2666]),\n",
       "  'HB3': array([-0.2642, -0.2735, -2.1462]),\n",
       "  'HG': array([-2.6098, -0.0943, -1.2289]),\n",
       "  'HD11': array([-2.1462, -1.1307, -3.4712]),\n",
       "  'HD12': array([-1.966 , -2.7336, -2.7171]),\n",
       "  'HD13': array([-3.5394, -1.9022, -2.6918]),\n",
       "  'HD21': array([-2.038 , -2.8978, -0.033 ]),\n",
       "  'HD22': array([-2.4416, -1.4146,  0.8671]),\n",
       "  'HD23': array([-3.6568, -2.1591, -0.1773])},\n",
       " {'N': array([-0.5231,  1.3633,  0.    ]),\n",
       "  'CA': array([0., 0., 0.]),\n",
       "  'C': array([1.5105, 0.    , 0.    ]),\n",
       "  'O': array([2.1676, 1.051 , 0.    ]),\n",
       "  'CB': array([-0.5555, -0.7666, -1.231 ]),\n",
       "  'CG': array([-2.0833, -1.0137, -1.1649]),\n",
       "  'CD': array([-2.6641, -1.7805, -2.3566]),\n",
       "  'CE': array([-4.1784, -1.939 , -2.1665]),\n",
       "  'NZ': array([-4.743 , -2.6659, -3.3169]),\n",
       "  'H': array([0.128 , 2.2254, 0.    ]),\n",
       "  'HA': array([-0.3324, -0.5014,  0.928 ]),\n",
       "  'HB2': array([-0.0219, -1.7334, -1.3402]),\n",
       "  'HB3': array([-0.3192, -0.2059, -2.1573]),\n",
       "  'HG2': array([-2.6109, -0.0473, -1.0447]),\n",
       "  'HG3': array([-2.3364, -1.6016, -0.263 ]),\n",
       "  'HD2': array([-2.1816, -2.7764, -2.4335]),\n",
       "  'HD3': array([-2.4278, -1.2464, -3.297 ]),\n",
       "  'HE2': array([-4.6756, -0.9513, -2.0714]),\n",
       "  'HE3': array([-4.3965, -2.48  , -1.2215]),\n",
       "  'HZ1': array([-4.0952, -3.3959, -3.6373]),\n",
       "  'HZ2': array([-5.6121, -3.1476, -3.064 ]),\n",
       "  'HZ3': array([-4.91  , -1.9761, -4.0355])},\n",
       " {'N': array([-0.5243,  1.3626,  0.    ]),\n",
       "  'CA': array([0., 0., 0.]),\n",
       "  'C': array([ 1.5095, -0.    ,  0.    ]),\n",
       "  'O': array([2.1659, 1.0528, 0.    ]),\n",
       "  'CB': array([-0.5546, -0.778 , -1.225 ]),\n",
       "  'CG': array([-2.0769, -1.0351, -1.228 ]),\n",
       "  'SD': array([-2.5283, -2.0448,  0.1922]),\n",
       "  'CE': array([-1.7616, -3.587 , -0.3232]),\n",
       "  'H': array([0.1261, 2.2251, 0.    ]),\n",
       "  'HA': array([-0.3248, -0.5028,  0.93  ]),\n",
       "  'HB2': array([-0.0478, -1.7597, -1.2952]),\n",
       "  'HB3': array([-0.2811, -0.2506, -2.1611]),\n",
       "  'HG2': array([-2.3712, -1.5579, -2.1575]),\n",
       "  'HG3': array([-2.6493, -0.0895, -1.2002]),\n",
       "  'HE1': array([-2.1345, -3.903 , -1.3141]),\n",
       "  'HE2': array([-0.6653, -3.4695, -0.3852]),\n",
       "  'HE3': array([-1.9812, -4.3893,  0.4021])},\n",
       " {'N': array([-0.524 ,  1.3626,  0.    ]),\n",
       "  'CA': array([0., 0., 0.]),\n",
       "  'C': array([ 1.51, -0.  ,  0.  ]),\n",
       "  'O': array([2.178 , 1.0714, 0.    ]),\n",
       "  'CB': array([-0.5029, -0.7663, -1.261 ]),\n",
       "  'CG': array([-0.069 , -2.2353, -1.3878]),\n",
       "  'CD1': array([-0.7213, -3.2163, -0.6319]),\n",
       "  'CD2': array([ 1.009 , -2.5955, -2.1998]),\n",
       "  'CE1': array([-0.2883, -4.5372, -0.6741]),\n",
       "  'CE2': array([ 1.435 , -3.9204, -2.2499]),\n",
       "  'CZ': array([ 0.7882, -4.8894, -1.4846]),\n",
       "  'H': array([0.1253, 2.2249, 0.    ]),\n",
       "  'HA': array([-0.3426, -0.5163,  0.917 ]),\n",
       "  'HB2': array([-0.1788, -0.2268, -2.173 ]),\n",
       "  'HB3': array([-1.61  , -0.7149, -1.3108]),\n",
       "  'HD1': array([-1.5377, -2.9441,  0.0238]),\n",
       "  'HD2': array([ 1.5289, -1.8451, -2.7794]),\n",
       "  'HE1': array([-0.7789, -5.281 , -0.0635]),\n",
       "  'HE2': array([ 2.274 , -4.1929, -2.8733]),\n",
       "  'HZ': array([ 1.1257, -5.9145, -1.5113])},\n",
       " {'N': array([-0.536,  1.353, -0.   ]),\n",
       "  'CA': array([0., 0., 0.]),\n",
       "  'C': array([ 1.5381,  0.    , -0.    ]),\n",
       "  'O': array([2.1622, 1.0614, 0.0083]),\n",
       "  'CB': array([-0.6005, -0.5781, -1.2903]),\n",
       "  'CG': array([-0.7484,  0.6488, -2.2026]),\n",
       "  'CD': array([-1.1691,  1.7585, -1.2359]),\n",
       "  'HA': array([-0.3512, -0.5515,  0.8754]),\n",
       "  'HB2': array([-1.5902, -0.9839, -1.0704]),\n",
       "  'HB3': array([ 0.0172, -1.3632, -1.7324]),\n",
       "  'HG2': array([-1.4818,  0.4943, -2.9974]),\n",
       "  'HG3': array([ 0.2197,  0.8972, -2.642 ]),\n",
       "  'HD2': array([-2.2536,  1.7716, -1.1031]),\n",
       "  'HD3': array([-0.8151,  2.741 , -1.5562])},\n",
       " {'N': array([-0.5225,  1.3632,  0.    ]),\n",
       "  'CA': array([0., 0., 0.]),\n",
       "  'C': array([ 1.5109, -0.    ,  0.    ]),\n",
       "  'O': array([2.1626, 1.0442, 0.    ]),\n",
       "  'CB': array([-0.5696, -0.809 , -1.192 ]),\n",
       "  'OG': array([-0.1468, -0.3013, -2.4621]),\n",
       "  'H': array([0.1267, 2.226 , 0.    ]),\n",
       "  'HA': array([-0.3201, -0.4879,  0.939 ]),\n",
       "  'HB2': array([-1.6752, -0.8463, -1.1585]),\n",
       "  'HB3': array([-0.2464, -1.8655, -1.1139]),\n",
       "  'HG': array([-0.4967,  0.5889, -2.5467])},\n",
       " {'N': array([-0.5237,  1.3621,  0.    ]),\n",
       "  'CA': array([0., 0., 0.]),\n",
       "  'C': array([ 1.5097, -0.    ,  0.    ]),\n",
       "  'O': array([2.1527, 1.0304, 0.    ]),\n",
       "  'CB': array([-0.5537, -0.8021, -1.226 ]),\n",
       "  'CG2': array([-2.0898, -0.9115, -1.3351]),\n",
       "  'OG1': array([-0.1527, -0.1905, -2.4452]),\n",
       "  'H': array([0.1256, 2.2257, 0.    ]),\n",
       "  'HA': array([-0.3299, -0.5001,  0.929 ]),\n",
       "  'HB': array([-0.1318, -1.83  , -1.1898]),\n",
       "  'HG1': array([-0.4623, -0.7684, -3.1484]),\n",
       "  'HG21': array([-2.4044, -1.4711, -2.2355]),\n",
       "  'HG22': array([-2.538 , -1.4476, -0.4778]),\n",
       "  'HG23': array([-2.5696,  0.0841, -1.3831])},\n",
       " {'N': array([-0.5234,  1.3628,  0.    ]),\n",
       "  'CA': array([0., 0., 0.]),\n",
       "  'C': array([ 1.5106, -0.    ,  0.    ]),\n",
       "  'O': array([ 2.1616e+00,  1.0431e+00, -1.0000e-04]),\n",
       "  'CB': array([-0.5254, -0.7464, -1.2577]),\n",
       "  'CG': array([-2.0343, -1.0095, -1.2634]),\n",
       "  'CD1': array([-2.998 , -0.2549, -1.9637]),\n",
       "  'CD2': array([-2.7417, -1.9453, -0.5372]),\n",
       "  'CE2': array([-4.1196, -1.7529, -0.8065]),\n",
       "  'CE3': array([-2.3168, -2.9496,  0.3702]),\n",
       "  'NE1': array([-4.305 , -0.7046, -1.6953]),\n",
       "  'CZ2': array([-5.0827, -2.572 , -0.1781]),\n",
       "  'CZ3': array([-3.2867, -3.7504,  0.9729]),\n",
       "  'CH2': array([-4.6497, -3.5673,  0.702 ]),\n",
       "  'H': array([ 7.8600e-02,  2.1612e+00, -4.0000e-04]),\n",
       "  'HA': array([-0.3339, -0.5166,  0.9199]),\n",
       "  'HB2': array([-0.0165, -1.7232, -1.3635]),\n",
       "  'HB3': array([-0.2457, -0.1916, -2.175 ]),\n",
       "  'HD1': array([-2.7596,  0.595 , -2.5901]),\n",
       "  'HE1': array([-5.1928, -0.3176, -2.0348]),\n",
       "  'HE3': array([-1.2684, -3.093 ,  0.5908]),\n",
       "  'HZ2': array([-6.1342, -2.429 , -0.3788]),\n",
       "  'HZ3': array([-2.9793, -4.5253,  1.6609]),\n",
       "  'HH2': array([-5.3768, -4.2056,  1.1805])},\n",
       " {'N': array([-0.523 ,  1.3632,  0.    ]),\n",
       "  'CA': array([0., 0., 0.]),\n",
       "  'C': array([ 1.5095, -0.    ,  0.    ]),\n",
       "  'O': array([2.1635e+00, 1.0462e+00, 2.0000e-04]),\n",
       "  'CB': array([-0.4801, -0.779 , -1.2595]),\n",
       "  'CG': array([-0.0251, -2.2383, -1.3813]),\n",
       "  'CD1': array([-0.6423, -3.2422, -0.6283]),\n",
       "  'CD2': array([ 1.0094, -2.5724, -2.2599]),\n",
       "  'CE1': array([-0.2302, -4.5656, -0.7588]),\n",
       "  'CE2': array([ 1.42  , -3.8956, -2.3885]),\n",
       "  'CZ': array([ 0.7997, -4.8918, -1.6376]),\n",
       "  'OH': array([ 1.1987, -6.1919, -1.7642]),\n",
       "  'H': array([ 1.271e-01,  2.226e+00, -2.000e-04]),\n",
       "  'HA': array([-0.34  , -0.5149,  0.9182]),\n",
       "  'HB2': array([-0.1475, -0.2491, -2.1741]),\n",
       "  'HB3': array([-1.5869, -0.7299, -1.3217]),\n",
       "  'HD1': array([-1.4466, -2.9993,  0.0522]),\n",
       "  'HD2': array([ 1.488 , -1.8057, -2.8541]),\n",
       "  'HE1': array([-0.7096, -5.3435, -0.1831]),\n",
       "  'HE2': array([ 2.216 , -4.1413, -3.0752]),\n",
       "  'HH': array([ 1.9092, -6.2301, -2.4081])},\n",
       " {'N': array([-0.5228,  1.3633,  0.    ]),\n",
       "  'CA': array([0., 0., 0.]),\n",
       "  'C': array([ 1.51, -0.  ,  0.  ]),\n",
       "  'O': array([2.1666, 1.0489, 0.    ]),\n",
       "  'CB': array([-0.562 , -0.7897, -1.248 ]),\n",
       "  'CG1': array([-2.1037, -0.9689, -1.3137]),\n",
       "  'CG2': array([-0.165 , -0.1726, -2.6106]),\n",
       "  'H': array([0.1281, 2.2262, 0.    ]),\n",
       "  'HA': array([-0.3233, -0.5054,  0.928 ]),\n",
       "  'HB': array([-0.1269, -1.8115, -1.2123]),\n",
       "  'HG11': array([-2.6420e+00, -2.6000e-03, -1.3324e+00]),\n",
       "  'HG12': array([-2.4227, -1.5398, -2.207 ]),\n",
       "  'HG13': array([-2.4989, -1.5436, -0.4543]),\n",
       "  'HG21': array([ 0.9303, -0.0585, -2.707 ]),\n",
       "  'HG22': array([-0.4806, -0.8105, -3.4589]),\n",
       "  'HG23': array([-0.6129,  0.827 , -2.766 ])},\n",
       " {'N': array([-0.5224,  1.3633,  0.    ]),\n",
       "  'CA': array([0., 0., 0.]),\n",
       "  'C': array([1.5101, 0.    , 0.    ]),\n",
       "  'O': array([2.1662, 1.0484, 0.011 ]),\n",
       "  'CB': array([-0.5959, -0.7282, -1.217 ]),\n",
       "  'H': array([0.1274, 2.2262, 0.    ]),\n",
       "  'HA': array([-0.3283, -0.5045,  0.928 ]),\n",
       "  'HB1': array([-1.7019, -0.7509, -1.181 ]),\n",
       "  'HB2': array([-0.3141, -0.2434, -2.172 ]),\n",
       "  'HB3': array([-0.2587, -1.779 , -1.274 ])},\n",
       " {'N': array([-0.5224,  1.3633,  0.    ]),\n",
       "  'CA': array([0., 0., 0.]),\n",
       "  'C': array([1.5101, 0.    , 0.    ]),\n",
       "  'O': array([2.1662, 1.0484, 0.011 ]),\n",
       "  'CB': array([-0.5959, -0.7282, -1.217 ]),\n",
       "  'H': array([0.1274, 2.2262, 0.    ]),\n",
       "  'HA': array([-0.3283, -0.5045,  0.928 ]),\n",
       "  'HB1': array([-1.7019, -0.7509, -1.181 ]),\n",
       "  'HB2': array([-0.3141, -0.2434, -2.172 ]),\n",
       "  'HB3': array([-0.2587, -1.779 , -1.274 ])}]"
      ]
     },
     "execution_count": 11,
     "metadata": {},
     "output_type": "execute_result"
    }
   ],
   "source": [
    "ideal_coords=[]\n",
    "for aa in num2aa:\n",
    "    if aa in ['UNK','MAS']:\n",
    "        aa='ALA'\n",
    "    ideal_coords.append(get_coords_aa(aa))\n",
    "ideal_coords"
   ]
  },
  {
   "cell_type": "code",
   "execution_count": null,
   "metadata": {},
   "outputs": [],
   "source": []
  },
  {
   "cell_type": "markdown",
   "metadata": {},
   "source": [
    "Возьмем псевдоатомы  из мартини"
   ]
  },
  {
   "cell_type": "code",
   "execution_count": 12,
   "metadata": {},
   "outputs": [],
   "source": [
    "# from https://github.com/cgmartini/martinize.py/\n",
    "\n",
    "def nsplit(*x):\n",
    "    return [i.split() for i in x]\n",
    "\n",
    "mass = {'H': 1, 'C': 12, 'N': 14, 'O': 16, 'S': 32, 'P': 31, 'M': 0}\n",
    "\n",
    "bb = \"N CA C O H H1 H2 H3 O1 O2\"\n",
    "mapping = {\n",
    "        \"ALA\":  nsplit(bb + \" CB\"),\n",
    "    \n",
    "        \"UNK\":  nsplit(bb + \" CB\"), # added unknown atoms as alanines\n",
    "        \"MAS\":  nsplit(bb + \" CB\"),\n",
    "    \n",
    "        \"CYS\":  nsplit(bb, \"CB SG\"),\n",
    "        \"ASP\":  nsplit(bb, \"CB CG OD1 OD2\"),\n",
    "        \"GLU\":  nsplit(bb, \"CB CG CD OE1 OE2\"),\n",
    "        \"PHE\":  nsplit(bb, \"CB CG CD1 HD1\", \"CD2 HD2 CE2 HE2\", \"CE1 HE1 CZ HZ\"),\n",
    "        \"GLY\":  nsplit(bb),\n",
    "        \"HIS\":  nsplit(bb, \"CB CG\", \"CD2 HD2 NE2 HE2\", \"ND1 HD1 CE1 HE1\"),\n",
    "        \"HIH\":  nsplit(bb, \"CB CG\", \"CD2 HD2 NE2 HE2\", \"ND1 HD1 CE1 HE1\"),     # Charged Histidine.\n",
    "        \"ILE\":  nsplit(bb, \"CB CG1 CG2 CD CD1\"),\n",
    "        \"LYS\":  nsplit(bb, \"CB CG CD\", \"CE NZ HZ1 HZ2 HZ3\"),\n",
    "        \"LEU\":  nsplit(bb, \"CB CG CD1 CD2\"),\n",
    "        \"MET\":  nsplit(bb, \"CB CG SD CE\"),\n",
    "        \"ASN\":  nsplit(bb, \"CB CG ND1 ND2 OD1 OD2 HD11 HD12 HD21 HD22\"),\n",
    "        \"PRO\":  nsplit(bb, \"CB CG CD\"),\n",
    "        \"HYP\":  nsplit(bb, \"CB CG CD OD\"),\n",
    "        \"GLN\":  nsplit(bb, \"CB CG CD OE1 OE2 NE1 NE2 HE11 HE12 HE21 HE22\"),\n",
    "        \"ARG\":  nsplit(bb, \"CB CG CD\", \"NE HE CZ NH1 NH2 HH11 HH12 HH21 HH22\"),\n",
    "        \"SER\":  nsplit(bb, \"CB OG HG\"),\n",
    "        \"THR\":  nsplit(bb, \"CB OG1 HG1 CG2\"),\n",
    "        \"VAL\":  nsplit(bb, \"CB CG1 CG2\"),\n",
    "        \"TRP\":  nsplit(bb, \"CB CG CD2\", \"CD1 HD1 NE1 HE1 CE2\", \"CE3 HE3 CZ3 HZ3\", \"CZ2 HZ2 CH2 HH2\"),\n",
    "        \"TYR\":  nsplit(bb, \"CB CG CD1 HD1\", \"CD2 HD2 CE2 HE2\", \"CE1 HE1 CZ OH HH\"),\n",
    "        \"DA\": nsplit(\"P OP1 OP2 O5' O3' O1P O2P\", \"C5' O4' C4'\", \"C3' C2' C1'\", \"N9 C4\", \"C8 N7 C5\", \"C6 N6 N1\", \"C2 N3\"),\n",
    "        \"DG\": nsplit(\"P OP1 OP2 O5' O3' O1P O2P\", \"C5' O4' C4'\", \"C3' C2' C1'\", \"N9 C4\", \"C8 N7 C5\", \"C6 O6 N1\", \"C2 N2 N3\"),\n",
    "        \"DC\": nsplit(\"P OP1 OP2 O5' O3' O1P O2P\", \"C5' O4' C4'\", \"C3' C2' C1'\", \"N1 C6\", \"C5 C4 N4\", \"N3 C2 O2\"),\n",
    "        \"DT\": nsplit(\"P OP1 OP2 O5' O3' O1P O2P\", \"C5' O4' C4'\", \"C3' C2' C1'\", \"N1 C6\", \"C5 C4 O4 C7 C5M\", \"N3 C2 O2\"),\n",
    "}\n",
    "pseudoatom_types = {\n",
    "        \"ALA\":  ['P4'],\n",
    "    \n",
    "        \"UNK\":  ['P4'], # added unknown atoms as alanines\n",
    "        \"MAS\":  ['P4'],\n",
    "    \n",
    "        \"CYS\":  ['P5','C5'],\n",
    "        \"ASP\":  ['P5','Qa'],\n",
    "        \"GLU\":  ['P5','Qa'],\n",
    "        \"PHE\":  ['P5','SC4','SC4','SC4'],\n",
    "        \"GLY\":  ['P5'],\n",
    "        \"HIS\":  ['P5','SC4','SP1','SP1'],\n",
    "        \"ILE\":  ['P5','AC1'],\n",
    "        \"LYS\":  ['P5','C3','P1'],\n",
    "        \"LEU\":  ['P5','AC1'],\n",
    "        \"MET\":  ['P5','C5'],\n",
    "        \"ASN\":  ['P5','P5'],\n",
    "        \"PRO\":  ['P5','AC2'],\n",
    "        \"GLN\":  ['P5','P4'],\n",
    "        \"ARG\":  ['P5','N0','Qd'],\n",
    "        \"SER\":  ['P5','P1'],\n",
    "        \"THR\":  ['P5','P1'],\n",
    "        \"VAL\":  ['P5','AC2'],\n",
    "        \"TRP\":  ['P5','SC4','SP1','SC4','SC4'],\n",
    "        \"TYR\":  ['P5','SC4','SC4','SP1'],\n",
    "        \"DA\": [\"Q0\",\"SN0\",\"SC2\", \"TN0\", \"TA2\", \"TA3\", \"TNa\"],\n",
    "        \"DG\": [\"Q0\",\"SN0\",\"SC2\", \"TN0\", \"TG2\", \"TG3\", \"TNa\"],\n",
    "        \"DC\": [\"Q0\",\"SN0\",\"SC2\", \"TN0\", \"TY2\", \"TY3\"],\n",
    "        \"DT\": [\"Q0\",\"SN0\",\"SC2\", \"TN0\", \"TT2\", \"TT3\"],\n",
    "        \"A\": [\"Q0\",\"SN0\",\"SNda\", \"TN0\", \"TA2\", \"TA3\", \"TNa\"],\n",
    "        \"G\": [\"Q0\",\"SN0\",\"SNda\", \"TN0\", \"TG2\", \"TG3\", \"TNa\"],\n",
    "        \"C\": [\"Q0\",\"SN0\",\"SNda\", \"TN0\", \"TY2\", \"TY3\"],\n",
    "        \"U\": [\"Q0\",\"SN0\",\"SNda\", \"TN0\", \"TT2\", \"TT3\"],\n",
    "} # from http://www.cgmartini.nl/images/parameters/ITP/martini_v2.1_aminoacids.itp\n",
    "\n",
    "pseudoatom_radii = {\n",
    "    'P5': 2**(1/6)*0.47, \n",
    "    'AC1': 2**(1/6)*0.47,\n",
    "    'C5': 2**(1/6)*0.47,\n",
    "    'SP1': 2**(1/6)*0.43, \n",
    "    'N0': 2**(1/6)*0.47, \n",
    "    'AC2': 2**(1/6)*0.47,\n",
    "    'C3': 2**(1/6)*0.47,\n",
    "    'P1': 2**(1/6)*0.47,\n",
    "    'Qa': 2**(1/6)*0.47,\n",
    "    'P4': 2**(1/6)*0.47,\n",
    "    'Qd': 2**(1/6)*0.47, \n",
    "    'SC4': 2**(1/6)*0.43\n",
    "} # from http://www.cgmartini.nl/images/parameters/ITP/martini_v2.0.itp\n"
   ]
  },
  {
   "cell_type": "code",
   "execution_count": 13,
   "metadata": {},
   "outputs": [
    {
     "data": {
      "text/plain": [
       "5.275571627054053"
      ]
     },
     "execution_count": 13,
     "metadata": {},
     "output_type": "execute_result"
    }
   ],
   "source": [
    "(2**(1/6))*4.7"
   ]
  },
  {
   "cell_type": "code",
   "execution_count": 14,
   "metadata": {},
   "outputs": [],
   "source": [
    "def martinize(seq, atoms, coords):\n",
    "    ps_coords=[]\n",
    "    ps_types=[]\n",
    "    for i, (aa, ass, xyzs) in enumerate(zip(seq, atoms, coords)):\n",
    "\n",
    "        av=[]\n",
    "        for a, xyz in zip(ass, xyzs):\n",
    "            for j, m in enumerate(mapping[aa]):\n",
    "                if len(av)<=j:\n",
    "                    av.append([[0,0,0],0])\n",
    "                if a in m:\n",
    "                    av[j][0][0]+=xyz[0]*mass[a[0]]\n",
    "                    av[j][0][1]+=xyz[1]*mass[a[0]]\n",
    "                    av[j][0][2]+=xyz[2]*mass[a[0]]\n",
    "                    av[j][1]+=mass[a[0]]\n",
    "        av=[[ps[0][0]/ps[1],ps[0][1]/ps[1],ps[0][2]/ps[1]] for ps in av]\n",
    "        ps_coords.append(av)\n",
    "        ps_types.append(pseudoatom_types[aa])\n",
    "    return ps_coords, ps_types"
   ]
  },
  {
   "cell_type": "markdown",
   "metadata": {},
   "source": [
    "Эти функции нам пригодятся позже"
   ]
  },
  {
   "cell_type": "markdown",
   "metadata": {},
   "source": [
    "### Write functions to get bb atoms from protein structures"
   ]
  },
  {
   "cell_type": "code",
   "execution_count": 70,
   "metadata": {},
   "outputs": [],
   "source": [
    "importlib.reload(sys.modules['data'])\n",
    "from data import AtomSurfaceDataset\n"
   ]
  },
  {
   "cell_type": "markdown",
   "metadata": {},
   "source": [
    "Сделаем представление атомов более похожее на rfdiffusion: тензор вида L x 3 x 3, где первое измерение - это остаток, второе - один из 3 атомов остова, а третье - ось."
   ]
  },
  {
   "cell_type": "code",
   "execution_count": 71,
   "metadata": {},
   "outputs": [],
   "source": [
    "class dict_wrap:\n",
    "    def __init__(self, func):\n",
    "        self.func=func\n",
    "    def __getitem__(self, idx):\n",
    "        return self.func(idx)\n",
    "    def get(self, idx, d=None):\n",
    "        return self.func(idx)\n",
    "    \n",
    "class ReshapeBB:\n",
    "    def __init__(self,encoder={'N': 0, 'CA': 1, 'C': 2}):\n",
    "        self.encoder=encoder\n",
    "        \n",
    "    def __call__(self,data):\n",
    "                       \n",
    "        seq=torch.stack([data['atom_chain'],data['atom_resid'], data['atom_type']], dim=1)\n",
    "        seq, idx=seq.unique(dim=0, sorted=True, return_inverse=True)\n",
    "        idx=(idx[:,None]==torch.arange(len(seq))[None,:]).to(int).argmax(dim=0)         \n",
    "        for key in data:\n",
    "            if 'target' in key:\n",
    "                continue\n",
    "            data[key]=data[key][idx]\n",
    "            \n",
    "        seq1=seq[:,:2].unique(dim=0)    \n",
    "        if len(seq1)*3!=len(data['atom_resid']):\n",
    "            mask=torch.ones_like(data['atom_chain']).to(bool)\n",
    "            for aa in seq:\n",
    "                idx=(data['atom_resid']==aa[1])*(data['atom_chain']==aa[0])\n",
    "                if sum(idx)<3:\n",
    "                    mask=~idx*mask\n",
    "            for key in data:\n",
    "                if 'target' in key:\n",
    "                    continue\n",
    "                data[key]=data[key][mask]   \n",
    "                \n",
    "            seq=seq[mask,:2].unique(dim=0)\n",
    "            assert len(seq)*3==len(data['atom_resid'])\n",
    "\n",
    "    \n",
    "        bb_xyz=torch.stack((data['atom_xyz'][self.encoder['N']::3],\n",
    "                            data['atom_xyz'][self.encoder['CA']::3],\n",
    "                            data['atom_xyz'][self.encoder['C']::3]), \n",
    "                           dim=1)\n",
    "        for key in list(data.keys()):\n",
    "            if 'atom' in key:\n",
    "                data.pop(key)\n",
    "            elif 'target' in key:\n",
    "                continue\n",
    "            else:\n",
    "                data[key]=data[key][::3]\n",
    "        data['bb_xyz']=bb_xyz # coordinates of 3 backbone atoms\n",
    "        return data    "
   ]
  },
  {
   "cell_type": "code",
   "execution_count": 72,
   "metadata": {
    "scrolled": true
   },
   "outputs": [
    {
     "name": "stderr",
     "output_type": "stream",
     "text": [
      "100%|███████████████████████████████████████████| 10/10 [00:07<00:00,  1.42it/s]\n",
      "100%|██████████████████████████████████████████| 10/10 [00:00<00:00, 188.26it/s]\n"
     ]
    }
   ],
   "source": [
    "with open('prot_nrd.txt','r') as f:\n",
    "    a=f.readlines()\n",
    "a=[x.strip()+'.pdb' for x in a]\n",
    "\n",
    "dataset=AtomSurfaceDataset(storage=None, encoders={\n",
    "    'atom_names':[{'name': 'atom_type',\n",
    "                      'encoder': {'N': 0, 'CA': 1, 'C': 2, '-': 0}\n",
    "                     },\n",
    "                  {'name': 'mask',\n",
    "                      'encoder': {'N': 1, 'CA': 1, 'C': 1, '-': 0}\n",
    "                     }],\n",
    "    'atom_resnames':[{'name': 'sequence',\n",
    "                      'encoder': {**{a: i for i, a in enumerate(num2aa)},**{'-': 20}}\n",
    "                     }\n",
    "                    ],\n",
    "    'atom_resids':[{'name': 'atom_resid',\n",
    "                      'encoder': dict_wrap(lambda x: x)\n",
    "                     }\n",
    "                    ],\n",
    "    'atom_chains':[{'name': 'atom_chain',\n",
    "                      'encoder': dict_wrap(ord)\n",
    "                     }\n",
    "                    ]},\n",
    "                    list=a[:10],\n",
    "                    pre_transform=ReshapeBB())"
   ]
  },
  {
   "cell_type": "markdown",
   "metadata": {},
   "source": [
    "### Get martini from backbone atoms"
   ]
  },
  {
   "cell_type": "markdown",
   "metadata": {},
   "source": [
    "Напишем функцию, которая по атомам остова и логитам (или мб вероятностям, потом решу) аминокислот будет достраивать псевдоатомы в дифференцируемой форме"
   ]
  },
  {
   "cell_type": "code",
   "execution_count": 25,
   "metadata": {},
   "outputs": [],
   "source": [
    "# from https://github.com/baker-laboratory/rf_diffusion_all_atom/blob/main/util.py\n",
    "\n",
    "def rigid_from_3_points(N, Ca, C, non_ideal=False, eps=1e-8):\n",
    "    #N, Ca, C - [B,L, 3]\n",
    "    #R - [B,L, 3, 3], det(R)=1, inv(R) = R.T, R is a rotation matrix\n",
    "    B,L = N.shape[:2]\n",
    "    \n",
    "    v1 = C-Ca\n",
    "    v2 = N-Ca\n",
    "    e1 = v1/(torch.norm(v1, dim=-1, keepdim=True)+eps)\n",
    "    u2 = v2-(torch.einsum('bli, bli -> bl', e1, v2)[...,None]*e1)\n",
    "    e2 = u2/(torch.norm(u2, dim=-1, keepdim=True)+eps)\n",
    "    e3 = torch.cross(e1, e2, dim=-1)\n",
    "    R = torch.cat([e1[...,None], e2[...,None], e3[...,None]], axis=-1) #[B,L,3,3] - rotation matrix\n",
    "    \n",
    "    if non_ideal:\n",
    "        v2 = v2/(torch.norm(v2, dim=-1, keepdim=True)+eps)\n",
    "        cosref = torch.sum(e1*v2, dim=-1) # cosine of current N-CA-C bond angle\n",
    "        costgt = cos_ideal_NCAC.item()\n",
    "        cos2del = torch.clamp( cosref*costgt + torch.sqrt((1-cosref*cosref)*(1-costgt*costgt)+eps), min=-1.0, max=1.0 )\n",
    "        cosdel = torch.sqrt(0.5*(1+cos2del)+eps)\n",
    "        sindel = torch.sign(costgt-cosref) * torch.sqrt(1-0.5*(1+cos2del)+eps)\n",
    "        Rp = torch.eye(3, device=N.device).repeat(B,L,1,1)\n",
    "        Rp[:,:,0,0] = cosdel\n",
    "        Rp[:,:,0,1] = -sindel\n",
    "        Rp[:,:,1,0] = sindel\n",
    "        Rp[:,:,1,1] = cosdel\n",
    "    \n",
    "        R = torch.einsum('blij,bljk->blik', R,Rp)\n",
    "\n",
    "    return R, Ca"
   ]
  },
  {
   "cell_type": "markdown",
   "metadata": {},
   "source": [
    "Идея следующая: для каждого типа аминокислоты рассчитаем идеальные координаты псевдоатомов относительно атомов остова. Поскольку псевдоатомов в аминокислотах разное количество, добавим паддинг путем размазывания псевдоатома остова на несколько псевдоатомов с разделением их весов при усреднении. Запишем это в тензор. И будем домножать его на логиты аминокислот, усреднять и трансформировать в глобальную систему координат. "
   ]
  },
  {
   "cell_type": "code",
   "execution_count": 67,
   "metadata": {},
   "outputs": [],
   "source": [
    "class BB2Martini:\n",
    "    def __init__(self):\n",
    "        \n",
    "        # get ideal pseudoatom coords and types for aminoacids\n",
    "        ps, ts=martinize(num2aa, \n",
    "                 [list(x.keys()) for x in ideal_coords],\n",
    "                 [list(x.values()) for x in ideal_coords] )\n",
    "\n",
    "        assert len(ps)==len(ts)\n",
    "\n",
    "        self.num_aa=len(ts) # A\n",
    "        self.num_pseudo=max([len(x) for x in ts]) # P\n",
    "\n",
    "        # encode types\n",
    "        num2ps=list(set([x for y in ts for x in y ]))\n",
    "        ps2num={x:i for i, x in enumerate(num2ps)}\n",
    "\n",
    "        rs=[[pseudoatom_radii[y]*10 for y in x] for x in ts]\n",
    "        ts=[[ps2num[y] for y in x] for x in ts]\n",
    "        \n",
    "\n",
    "        self.num_types=len(num2ps) # T\n",
    "        \n",
    "        # pad coords and types\n",
    "        ws=np.ones((self.num_aa,self.num_pseudo)) # weight padded pseudoatoms\n",
    "        for i in range(len(ps)):\n",
    "            assert len(ps[i])==len(ts[i])\n",
    "            to_add=self.num_pseudo-len(ps[i])\n",
    "            for j in range(to_add):\n",
    "                ps[i]=[ps[i][0]]+ps[i]\n",
    "                ts[i]=[ts[i][0]]+ts[i]\n",
    "                rs[i]=[rs[i][0]]+rs[i]\n",
    "            ws[i][:to_add+1]/=(to_add+1)\n",
    "\n",
    "        ps=np.array(ps)\n",
    "        ts=np.array(ts)\n",
    "        rs=np.array(rs)\n",
    "        \n",
    "        self.map_coords=torch.Tensor(ps)[None,:,:,:] # (1,A,P,3)\n",
    "        self.map_types=F.one_hot(torch.LongTensor(ts),\n",
    "                                 num_classes=self.num_types).float()[None,:,:,:] # (1,A,P,T)\n",
    "        self.map_weights=torch.Tensor(ws)[None,:,:,None] # (1,A,P,1)\n",
    "        self.map_radii=torch.Tensor(rs)[None,:,:,None] # (1,A,P,1)\n",
    "    \n",
    "        \n",
    "    def __call__(self, data):\n",
    "        \n",
    "        sequence=data['sequence'][:,:,None,None]\n",
    "        bb=data['bb_xyz']\n",
    "                   \n",
    "        xyz = (sequence*self.map_coords*self.map_weights).sum(1)/(sequence*self.map_weights).sum(1) # (L,P, 3)      \n",
    "        types = (sequence*self.map_types*self.map_weights).sum(1)/(sequence*self.map_weights).sum(1) # (L, P, T)\n",
    "        radii = (sequence*self.map_radii*self.map_weights).sum(1)/(sequence*self.map_weights).sum(1) # (L, P, 1)\n",
    "        \n",
    "        Rs, Ts = rigid_from_3_points(bb[None,:,0,:],bb[None,:,1,:],bb[None,:,2,:]) # transforms\n",
    "        xyz = torch.einsum('lpij,lpj->lpi', Rs, xyz.transpose(0,1)) + Ts\n",
    "        \n",
    "        xyz=xyz.transpose(0,1).reshape((-1,3))\n",
    "        types=types.reshape((-1,self.num_types))\n",
    "        radii=radii.reshape(-1)\n",
    "        \n",
    "        data['atom_xyz']=xyz \n",
    "        data['atom_types']=types\n",
    "        data['atom_rad']=radii\n",
    "    \n",
    "        return data\n",
    "    \n",
    "# Это еще надо наверное завернуть в torch Module и прописать форвард и что-то там еще, потом разберусь\n",
    "\n",
    "class Compose:\n",
    "    r\"\"\"Composes several transforms together.\n",
    "    Args:\n",
    "        transforms (List[Callable]): List of transforms to compose.\n",
    "    \"\"\"\n",
    "    def __init__(self, transforms):\n",
    "        self.transforms = transforms\n",
    "\n",
    "    def __call__(self, data):\n",
    "        # Shallow-copy the data so that we prevent in-place data modification.\n",
    "        return self.forward(data)\n",
    "\n",
    "    def forward(self,data) :\n",
    "        for transform in self.transforms:\n",
    "            if isinstance(data, (list, tuple)):\n",
    "                data = [transform(d) for d in data]\n",
    "            else:\n",
    "                data = transform(data)\n",
    "        return data\n"
   ]
  },
  {
   "cell_type": "code",
   "execution_count": 68,
   "metadata": {},
   "outputs": [
    {
     "data": {
      "text/plain": [
       "dict_keys(['sequence', 'target_xyz', 'target_normals', 'bb_xyz', 'atom_xyz', 'atom_types', 'atom_rad'])"
      ]
     },
     "execution_count": 68,
     "metadata": {},
     "output_type": "execute_result"
    }
   ],
   "source": [
    "bb2martini=BB2Martini()\n",
    "\n",
    "bb2martini(dataset[0]).keys()"
   ]
  },
  {
   "cell_type": "markdown",
   "metadata": {},
   "source": [
    "Дальше с такими данными можно работать по старой схеме. Только надо подобрать гиперпараметры с поправкой на новое кол-во, типы и радиусы атомов. "
   ]
  },
  {
   "cell_type": "code",
   "execution_count": 73,
   "metadata": {},
   "outputs": [
    {
     "name": "stderr",
     "output_type": "stream",
     "text": [
      " 39%|███████████████▍                        | 900/2337 [09:49<18:52,  1.27it/s]"
     ]
    },
    {
     "name": "stdout",
     "output_type": "stream",
     "text": [
      "Failed to load 3OQ5_D.pdb\n"
     ]
    },
    {
     "name": "stderr",
     "output_type": "stream",
     "text": [
      " 99%|██████████████████████████████████████▊| 2325/2337 [34:13<00:31,  2.60s/it]"
     ]
    },
    {
     "name": "stdout",
     "output_type": "stream",
     "text": [
      "Failed to load 8RC4_j.pdb\n"
     ]
    },
    {
     "name": "stderr",
     "output_type": "stream",
     "text": [
      "100%|██████████████████████████████████████▊| 2327/2337 [34:15<00:16,  1.68s/it]"
     ]
    },
    {
     "name": "stdout",
     "output_type": "stream",
     "text": [
      "Failed to load 8RC4_n.pdb\n"
     ]
    },
    {
     "name": "stderr",
     "output_type": "stream",
     "text": [
      "100%|███████████████████████████████████████| 2337/2337 [34:28<00:00,  1.13it/s]\n",
      "100%|███████████████████████████████████████| 2334/2334 [06:48<00:00,  5.71it/s]\n"
     ]
    }
   ],
   "source": [
    "with open('prot_nrd.txt','r') as f:\n",
    "    a=f.readlines()\n",
    "a=[x.strip()+'.pdb' for x in a]\n",
    "\n",
    "dataset=AtomSurfaceDataset(storage='prot_martini.pkl', encoders={\n",
    "    'atom_names':[{'name': 'atom_type',\n",
    "                      'encoder': {'N': 0, 'CA': 1, 'C': 2, '-': 0}\n",
    "                     },\n",
    "                  {'name': 'mask',\n",
    "                      'encoder': {'N': 1, 'CA': 1, 'C': 1, '-': 0}\n",
    "                     }],\n",
    "    'atom_resnames':[{'name': 'sequence',\n",
    "                      'encoder': {**{a: i for i, a in enumerate(num2aa)},**{'-': 20}}\n",
    "                     }\n",
    "                    ],\n",
    "    'atom_resids':[{'name': 'atom_resid',\n",
    "                      'encoder': dict_wrap(lambda x: x)\n",
    "                     }\n",
    "                    ],\n",
    "    'atom_chains':[{'name': 'atom_chain',\n",
    "                      'encoder': dict_wrap(ord)\n",
    "                     }\n",
    "                    ]},\n",
    "                    list=a,\n",
    "                    pre_transform=Compose([ReshapeBB(), BB2Martini()]))"
   ]
  },
  {
   "cell_type": "code",
   "execution_count": 330,
   "metadata": {},
   "outputs": [],
   "source": [
    "def comp_loss(dataset, args):\n",
    "    ch_losses=[]\n",
    "    norm_losses=[]\n",
    "    sizes=[]\n",
    "    for data in tqdm(dataset):\n",
    "        xyz=data['atom_xyz']\n",
    "        rad=data['atom_rad']\n",
    "        try:\n",
    "            dmasif_vert, dmasif_norm, _ = atoms_to_points_normals(xyz, \n",
    "                                                       torch.zeros(xyz.shape[0], dtype=int), \n",
    "                                                        atom_rad=rad,\n",
    "                                                        **args)\n",
    "            d_ch_loss, d_norm_loss=chamfer_distance( dmasif_vert, data['target_xyz'], \n",
    "                                             dmasif_norm, data['target_normals'])\n",
    "        except RuntimeError:\n",
    "            print('Fail')\n",
    "            continue\n",
    "        ch_losses.append(d_ch_loss)\n",
    "        norm_losses.append(d_norm_loss)\n",
    "        sizes.append(dmasif_vert.shape[0])\n",
    "    return ch_losses, norm_losses, sizes\n"
   ]
  },
  {
   "cell_type": "code",
   "execution_count": 47,
   "metadata": {},
   "outputs": [
    {
     "ename": "NameError",
     "evalue": "name 'comp_loss' is not defined",
     "output_type": "error",
     "traceback": [
      "\u001b[0;31m---------------------------------------------------------------------------\u001b[0m",
      "\u001b[0;31mNameError\u001b[0m                                 Traceback (most recent call last)",
      "\u001b[0;32m/tmp/ipykernel_105462/3095153476.py\u001b[0m in \u001b[0;36m<module>\u001b[0;34m\u001b[0m\n\u001b[1;32m      5\u001b[0m \u001b[0;32mfor\u001b[0m \u001b[0mparameter\u001b[0m \u001b[0;32min\u001b[0m \u001b[0mpar\u001b[0m\u001b[0;34m:\u001b[0m\u001b[0;34m\u001b[0m\u001b[0;34m\u001b[0m\u001b[0m\n\u001b[1;32m      6\u001b[0m     \u001b[0margs\u001b[0m\u001b[0;34m=\u001b[0m\u001b[0;34m{\u001b[0m\u001b[0;34m'smoothness'\u001b[0m\u001b[0;34m:\u001b[0m\u001b[0;36m0.03\u001b[0m\u001b[0;34m,\u001b[0m\u001b[0;34m'distance'\u001b[0m\u001b[0;34m:\u001b[0m\u001b[0mparameter\u001b[0m\u001b[0;34m,\u001b[0m \u001b[0;34m'sup_sampling'\u001b[0m\u001b[0;34m:\u001b[0m\u001b[0;36m100\u001b[0m\u001b[0;34m,\u001b[0m \u001b[0;34m'variance'\u001b[0m\u001b[0;34m:\u001b[0m \u001b[0;36m0.1\u001b[0m \u001b[0;34m}\u001b[0m\u001b[0;34m\u001b[0m\u001b[0;34m\u001b[0m\u001b[0m\n\u001b[0;32m----> 7\u001b[0;31m     \u001b[0ma\u001b[0m\u001b[0;34m,\u001b[0m \u001b[0mb\u001b[0m\u001b[0;34m,\u001b[0m \u001b[0mc\u001b[0m\u001b[0;34m=\u001b[0m\u001b[0mcomp_loss\u001b[0m\u001b[0;34m(\u001b[0m\u001b[0mdataset\u001b[0m\u001b[0;34m[\u001b[0m\u001b[0;34m:\u001b[0m\u001b[0;36m103\u001b[0m\u001b[0;34m]\u001b[0m\u001b[0;34m,\u001b[0m \u001b[0margs\u001b[0m\u001b[0;34m)\u001b[0m\u001b[0;34m\u001b[0m\u001b[0;34m\u001b[0m\u001b[0m\n\u001b[0m\u001b[1;32m      8\u001b[0m     \u001b[0mch\u001b[0m\u001b[0;34m.\u001b[0m\u001b[0mappend\u001b[0m\u001b[0;34m(\u001b[0m\u001b[0mnp\u001b[0m\u001b[0;34m.\u001b[0m\u001b[0mmean\u001b[0m\u001b[0;34m(\u001b[0m\u001b[0ma\u001b[0m\u001b[0;34m)\u001b[0m\u001b[0;34m)\u001b[0m\u001b[0;34m\u001b[0m\u001b[0;34m\u001b[0m\u001b[0m\n\u001b[1;32m      9\u001b[0m     \u001b[0mno\u001b[0m\u001b[0;34m.\u001b[0m\u001b[0mappend\u001b[0m\u001b[0;34m(\u001b[0m\u001b[0mnp\u001b[0m\u001b[0;34m.\u001b[0m\u001b[0mmean\u001b[0m\u001b[0;34m(\u001b[0m\u001b[0mb\u001b[0m\u001b[0;34m)\u001b[0m\u001b[0;34m)\u001b[0m\u001b[0;34m\u001b[0m\u001b[0;34m\u001b[0m\u001b[0m\n",
      "\u001b[0;31mNameError\u001b[0m: name 'comp_loss' is not defined"
     ]
    }
   ],
   "source": [
    "ch=[]\n",
    "no=[]\n",
    "ss=[]\n",
    "par=[5,5.1,5.2,5.3,5.4,5.5]\n",
    "for parameter in par:\n",
    "    args={'smoothness':0.03,'distance':parameter, 'sup_sampling':100, 'variance': 0.1 }\n",
    "    a, b, c=comp_loss(dataset[:103], args)\n",
    "    ch.append(np.mean(a))\n",
    "    no.append(np.mean(b))\n",
    "    ss.append(np.mean(c))\n",
    "    clear_output()\n",
    "    plt.figure(figsize=(10,3))\n",
    "    plt.subplot(131)\n",
    "    plt.title('chamfer')\n",
    "    plt.plot(par[:len(ch)],ch, label='chamfer')\n",
    "    plt.subplot(132)\n",
    "    plt.title('normal')\n",
    "    plt.plot(par[:len(no)],no, label='normal')\n",
    "    plt.subplot(133)\n",
    "    plt.title('size')\n",
    "    plt.plot(par[:len(ss)],ss, label='size')\n",
    "    plt.show()"
   ]
  },
  {
   "cell_type": "code",
   "execution_count": 49,
   "metadata": {},
   "outputs": [],
   "source": [
    "from simple_surface import simple_points_normals\n",
    "from dmasif_surface import atoms_to_points_normals\n",
    "\n",
    "importlib.reload(sys.modules['simple_surface'])\n",
    "importlib.reload(sys.modules['dmasif_surface'])\n",
    "\n",
    "from simple_surface import simple_points_normals\n",
    "from dmasif_surface import atoms_to_points_normals"
   ]
  },
  {
   "cell_type": "code",
   "execution_count": 60,
   "metadata": {},
   "outputs": [],
   "source": [
    "xyz=dataset[32]['atom_xyz']\n",
    "rad=dataset[32]['atom_rad']\n",
    "dmasif_args={'smoothness':0.03,'distance':5.3, 'sup_sampling':100, 'variance': 0.1, 'resolution':1.0 }\n",
    "\n",
    "dmasif_vert, dmasif_norm, _ = atoms_to_points_normals(xyz, \n",
    "                                                       torch.zeros(xyz.shape[0], dtype=int), \n",
    "                                                        atom_rad=rad,\n",
    "                                                        **dmasif_args)\n",
    "s_args={'probe':1.4, 'sup_sampling':300, 'resolution':1.0,}\n",
    "\n",
    "s_vert, s_norm = simple_points_normals(xyz, \n",
    "                                            atom_rad=rad,\n",
    "                                                **s_args)\n",
    "msms_vert=dataset[32]['target_xyz']"
   ]
  },
  {
   "cell_type": "markdown",
   "metadata": {},
   "source": [
    "Крч, пусть будет smoothness 0.03 (тут чем меньше тем лучше, потому что элемент корс-грейности убавляет), а дистанс - 5.3, пушта мне так хочется. Сабсемплинг будет 100 чтобы компенсировать недостаток атомов. И атомы я буду рисовать по сферам, а не рандомно, как они, пушта так лучше вогнутые места заполняются."
   ]
  },
  {
   "cell_type": "code",
   "execution_count": 61,
   "metadata": {},
   "outputs": [
    {
     "name": "stdout",
     "output_type": "stream",
     "text": [
      "MSMS point number: 17729\n",
      "dMaSIF point number: 5998\n",
      "Simple point number: 2497\n"
     ]
    },
    {
     "data": {
      "image/png": "[encoded data removed]",
      "text/plain": [
       "<Figure size 1800x600 with 3 Axes>"
      ]
     },
     "metadata": {},
     "output_type": "display_data"
    }
   ],
   "source": [
    "fig = plt.figure(figsize=(18, 6))\n",
    "\n",
    "ax = fig.add_subplot(131, projection='3d')\n",
    "ax.scatter(*msms_vert.T, s=1, color='red',alpha=0.5)\n",
    "ax.set_title('MSMS')\n",
    "\n",
    "ax = fig.add_subplot(132, projection='3d')\n",
    "ax.scatter(*dmasif_vert.T, s=1, color='blue',alpha=0.5)\n",
    "ax.set_title('dmasif')\n",
    "\n",
    "ax = fig.add_subplot(133, projection='3d')\n",
    "ax.scatter(*s_vert.T, s=1, color='blue',alpha=0.5)\n",
    "ax.set_title('simple')\n",
    "\n",
    "\n",
    "print('MSMS point number:', msms_vert.shape[0])\n",
    "print('dMaSIF point number:', dmasif_vert.shape[0])\n",
    "print('Simple point number:', s_vert.shape[0])\n",
    "\n"
   ]
  },
  {
   "cell_type": "code",
   "execution_count": 39,
   "metadata": {},
   "outputs": [
    {
     "data": {
      "application/vnd.plotly.v1+json": {
       "config": {
        "plotlyServerURL": "https://plot.ly"
       },
       "data": [
        {
         "hovertemplate": "x=%{x}<br>y=%{y}<br>z=%{z}<br>size=%{marker.size}<extra></extra>",
         "legendgroup": "",
         "marker": {
          "color": "#636efa",
          "size": [
           52.75571823120117,
           52.75571823120117,
           52.75571823120117,
           52.75571823120117,
           52.75571823120117,
           52.75571823120117,
           52.75571823120117,
           52.75571823120117,
           52.75571823120117,
           52.75571823120117,
           52.75571823120117,
           52.75571823120117,
           52.75571823120117,
           52.75571823120117,
           52.75571823120117,
           52.75571823120117,
           52.75571823120117,
           52.75571823120117,
           52.75571823120117,
           52.75571823120117,
           52.75571823120117,
           52.75571823120117,
           52.75571823120117,
           52.75571823120117,
           52.75571823120117,
           52.75571823120117,
           52.75571823120117,
           52.75571823120117,
           52.75571823120117,
           52.75571823120117,
           52.75571823120117,
           52.75571823120117,
           52.75571823120117,
           52.75571823120117,
           52.75571823120117,
           52.75571823120117,
           52.75571823120117,
           52.75571823120117,
           52.75571823120117,
           52.75571823120117,
           52.75571823120117,
           52.75571823120117,
           48.265869140625,
           48.265869140625,
           48.265869140625,
           52.75571823120117,
           52.75571823120117,
           52.75571823120117,
           52.75571823120117,
           52.75571823120117,
           52.75571823120117,
           52.75571823120117,
           48.265869140625,
           48.265869140625,
           48.265869140625,
           52.75571823120117,
           52.75571823120117,
           52.75571823120117,
           52.75571823120117,
           52.75571823120117,
           52.75571823120117,
           52.75571823120117,
           52.75571823120117,
           52.75571823120117,
           52.75571823120117,
           52.75571823120117,
           52.75571823120117,
           52.75571823120117,
           52.75571823120117,
           52.75571823120117,
           52.75571823120117,
           52.75571823120117,
           52.75571823120117,
           52.75571823120117,
           52.75571823120117,
           52.75571823120117,
           52.75571823120117,
           52.75571823120117,
           52.75571823120117,
           52.75571823120117,
           52.75571823120117,
           52.75571823120117,
           52.75571823120117,
           52.75571823120117,
           52.75571823120117,
           52.75571823120117,
           52.75571823120117,
           52.75571823120117,
           52.75571823120117,
           52.75571823120117,
           52.75571823120117,
           52.75571823120117,
           52.75571823120117,
           52.75571823120117,
           52.75571823120117,
           52.75571823120117,
           52.75571823120117,
           52.75571823120117,
           52.75571823120117,
           52.75571823120117,
           52.75571823120117,
           52.75571823120117,
           52.75571823120117,
           52.75571823120117,
           52.75571823120117,
           52.75571823120117,
           52.75571823120117,
           52.75571823120117,
           52.75571823120117,
           52.75571823120117,
           52.75571823120117,
           52.75571823120117,
           52.75571823120117,
           52.75571823120117,
           52.75571823120117,
           52.75571823120117,
           52.75571823120117,
           52.75571823120117,
           52.75571823120117,
           52.75571823120117,
           52.75571823120117,
           52.75571823120117,
           52.75571823120117,
           52.75571823120117,
           52.75571823120117,
           52.75571823120117,
           52.75571823120117,
           52.75571823120117,
           52.75571823120117,
           52.75571823120117,
           52.75571823120117,
           52.75571823120117,
           52.75571823120117,
           52.75571823120117,
           52.75571823120117,
           52.75571823120117,
           52.75571823120117,
           52.75571823120117,
           52.75571823120117,
           52.75571823120117,
           52.75571823120117,
           52.75571823120117,
           52.75571823120117,
           52.75571823120117,
           52.75571823120117,
           52.75571823120117,
           52.75571823120117,
           52.75571823120117,
           52.75571823120117,
           52.75571823120117,
           52.75571823120117,
           52.75571823120117,
           52.75571823120117,
           52.75571823120117,
           52.75571823120117,
           52.75571823120117,
           52.75571823120117,
           52.75571823120117,
           52.75571823120117,
           52.75571823120117,
           52.75571823120117,
           52.75571823120117,
           52.75571823120117,
           52.75571823120117,
           52.75571823120117,
           52.75571823120117,
           52.75571823120117,
           52.75571823120117,
           52.75571823120117,
           52.75571823120117,
           52.75571823120117,
           52.75571823120117,
           52.75571823120117,
           52.75571823120117,
           52.75571823120117,
           52.75571823120117,
           52.75571823120117,
           52.75571823120117,
           52.75571823120117,
           52.75571823120117,
           52.75571823120117,
           48.265869140625,
           48.265869140625,
           48.265869140625,
           48.265869140625,
           52.75571823120117,
           48.265869140625,
           48.265869140625,
           48.265869140625,
           48.265869140625,
           52.75571823120117,
           52.75571823120117,
           52.75571823120117,
           52.75571823120117,
           52.75571823120117,
           52.75571823120117,
           52.75571823120117,
           52.75571823120117,
           52.75571823120117,
           52.75571823120117,
           52.75571823120117,
           52.75571823120117,
           52.75571823120117,
           52.75571823120117,
           52.75571823120117,
           52.75571823120117,
           52.75571823120117,
           52.75571823120117,
           52.75571823120117,
           52.75571823120117,
           52.75571823120117,
           52.75571823120117,
           52.75571823120117,
           52.75571823120117,
           52.75571823120117,
           52.75571823120117,
           52.75571823120117,
           52.75571823120117,
           52.75571823120117,
           52.75571823120117,
           52.75571823120117,
           52.75571823120117,
           52.75571823120117,
           52.75571823120117,
           52.75571823120117,
           52.75571823120117,
           52.75571823120117,
           52.75571823120117,
           52.75571823120117,
           52.75571823120117,
           52.75571823120117,
           52.75571823120117,
           52.75571823120117,
           52.75571823120117,
           52.75571823120117,
           52.75571823120117,
           52.75571823120117,
           48.265869140625,
           48.265869140625,
           48.265869140625,
           52.75571823120117,
           52.75571823120117,
           52.75571823120117,
           52.75571823120117,
           52.75571823120117,
           52.75571823120117,
           52.75571823120117,
           52.75571823120117,
           52.75571823120117,
           52.75571823120117,
           52.75571823120117,
           52.75571823120117,
           52.75571823120117,
           52.75571823120117,
           52.75571823120117,
           52.75571823120117,
           52.75571823120117,
           52.75571823120117,
           52.75571823120117,
           52.75571823120117,
           52.75571823120117,
           52.75571823120117,
           48.265869140625,
           48.265869140625,
           48.265869140625,
           52.75571823120117,
           52.75571823120117,
           52.75571823120117,
           52.75571823120117,
           52.75571823120117,
           52.75571823120117,
           52.75571823120117,
           52.75571823120117,
           52.75571823120117,
           52.75571823120117,
           52.75571823120117,
           52.75571823120117,
           52.75571823120117,
           52.75571823120117,
           52.75571823120117,
           52.75571823120117,
           52.75571823120117,
           52.75571823120117,
           52.75571823120117,
           52.75571823120117,
           52.75571823120117,
           52.75571823120117,
           52.75571823120117,
           52.75571823120117,
           52.75571823120117
          ],
          "sizemode": "area",
          "sizeref": 0.13188929557800294,
          "symbol": "circle"
         },
         "mode": "markers",
         "name": "",
         "scene": "scene",
         "showlegend": false,
         "type": "scatter3d",
         "x": [
          -12.022724151611328,
          -12.022724151611328,
          -12.022724151611328,
          -12.022724151611328,
          -12.022724151611328,
          -10.367928504943848,
          -10.367928504943848,
          -10.367928504943848,
          -10.828882217407227,
          -11.765528678894043,
          -7.276062965393066,
          -7.276062965393066,
          -7.276062965393066,
          -7.276062965393066,
          -6.767646789550781,
          -3.8220558166503906,
          -3.8220558166503906,
          -3.8220558166503906,
          -3.8220558166503906,
          -5.52998161315918,
          -0.6300660371780396,
          -0.6300660371780396,
          -0.6300660371780396,
          -0.6300660371780396,
          -0.47232481837272644,
          2.6281747817993164,
          2.6281747817993164,
          2.6281747817993164,
          2.6281747817993164,
          2.9114456176757812,
          5.21151065826416,
          5.21151065826416,
          5.21151065826416,
          5.21151065826416,
          5.21151065826416,
          8.24649715423584,
          8.24649715423584,
          8.24649715423584,
          8.24649715423584,
          7.925032615661621,
          8.825634002685547,
          8.825634002685547,
          11.805139541625977,
          11.691976547241211,
          13.784677505493164,
          8.955177307128906,
          8.955177307128906,
          8.955177307128906,
          8.955177307128906,
          8.807879447937012,
          7.240180015563965,
          7.240180015563965,
          6.655726432800293,
          4.910965919494629,
          6.042839050292969,
          6.851869106292725,
          6.851869106292725,
          6.851869106292725,
          6.851869106292725,
          9.602744102478027,
          5.544225692749023,
          5.544225692749023,
          5.544225692749023,
          5.544225692749023,
          1.307316780090332,
          4.5034379959106445,
          4.5034379959106445,
          4.5034379959106445,
          7.661345958709717,
          10.507453918457031,
          1.7915836572647095,
          1.7915836572647095,
          1.7915836572647095,
          1.7915836572647095,
          1.5217547416687012,
          -1.3275333642959595,
          -1.3275333642959595,
          -1.3275333642959595,
          -1.3275333642959595,
          -1.4186313152313232,
          -1.7568809986114502,
          -1.7568809986114502,
          -1.7568809986114502,
          -3.40549898147583,
          -4.921767234802246,
          -0.16674429178237915,
          -0.16674429178237915,
          -0.16674429178237915,
          -0.16674429178237915,
          3.1527702808380127,
          1.3647065162658691,
          1.3647065162658691,
          1.3647065162658691,
          1.3647065162658691,
          -1.2973718643188477,
          2.5483052730560303,
          2.5483052730560303,
          2.5483052730560303,
          2.5483052730560303,
          3.9361672401428223,
          4.690686225891113,
          4.690686225891113,
          4.690686225891113,
          4.690686225891113,
          1.049088954925537,
          5.767890453338623,
          5.767890453338623,
          5.767890453338623,
          6.267614841461182,
          6.305302619934082,
          7.49934196472168,
          7.49934196472168,
          7.49934196472168,
          10.559318542480469,
          13.154197692871094,
          5.505239009857178,
          5.505239009857178,
          5.505239009857178,
          5.505239009857178,
          5.505239009857178,
          2.9436397552490234,
          2.9436397552490234,
          2.9436397552490234,
          2.9436397552490234,
          1.1944141387939453,
          -0.25329452753067017,
          -0.25329452753067017,
          -0.25329452753067017,
          -0.25329452753067017,
          -0.9607850909233093,
          -2.3598203659057617,
          -2.3598203659057617,
          -2.3598203659057617,
          -2.3598203659057617,
          -0.22044897079467773,
          -4.942282676696777,
          -4.942282676696777,
          -4.942282676696777,
          -4.942282676696777,
          -6.785646438598633,
          -6.170094966888428,
          -6.170094966888428,
          -6.170094966888428,
          -6.170094966888428,
          -2.8291573524475098,
          -7.584768295288086,
          -7.584768295288086,
          -7.584768295288086,
          -7.584768295288086,
          -8.791481971740723,
          -6.420164108276367,
          -6.420164108276367,
          -6.420164108276367,
          -6.420164108276367,
          -9.201472282409668,
          -5.425273895263672,
          -5.425273895263672,
          -5.425273895263672,
          -5.425273895263672,
          -5.291632652282715,
          -5.4921112060546875,
          -5.4921112060546875,
          -5.4921112060546875,
          -5.4921112060546875,
          -8.17368221282959,
          -3.357949733734131,
          -3.357949733734131,
          -3.357949733734131,
          -3.357949733734131,
          -4.803361892700195,
          -0.8370043039321899,
          -0.8370043039321899,
          -0.8370043039321899,
          -1.4197973012924194,
          -2.5910863876342773,
          0.9403513669967651,
          0.9403513669967651,
          0.9403513669967651,
          0.9403513669967651,
          3.815202236175537,
          -0.3018452525138855,
          1.2874839305877686,
          2.706263542175293,
          3.0895702838897705,
          4.650010585784912,
          -1.695817470550537,
          -1.509973168373108,
          -0.15481960773468018,
          -3.7096829414367676,
          -2.4328718185424805,
          -4.28684663772583,
          -4.28684663772583,
          -4.28684663772583,
          -6.012033462524414,
          -7.158810615539551,
          -4.920372486114502,
          -4.920372486114502,
          -4.920372486114502,
          -4.920372486114502,
          -2.7495076656341553,
          -5.501775741577148,
          -5.501775741577148,
          -5.501775741577148,
          -5.501775741577148,
          -9.979133605957031,
          -4.271866798400879,
          -4.271866798400879,
          -4.271866798400879,
          -4.271866798400879,
          -2.1444172859191895,
          -4.572414398193359,
          -4.572414398193359,
          -4.572414398193359,
          -4.572414398193359,
          -0.99456787109375,
          -6.172077178955078,
          -6.172077178955078,
          -6.172077178955078,
          -6.172077178955078,
          -7.607672214508057,
          -6.333833694458008,
          -6.333833694458008,
          -6.333833694458008,
          -4.649706840515137,
          -2.865081310272217,
          -6.539303302764893,
          -6.539303302764893,
          -6.539303302764893,
          -6.539303302764893,
          -10.664485931396484,
          -3.8982651233673096,
          -3.8982651233673096,
          -3.8982651233673096,
          -3.8982651233673096,
          -3.8982651233673096,
          -0.9469285011291504,
          -0.9469285011291504,
          -0.9495176076889038,
          1.3533074855804443,
          0.31677794456481934,
          1.356137990951538,
          1.356137990951538,
          1.356137990951538,
          1.356137990951538,
          0.9658288359642029,
          3.569981575012207,
          3.569981575012207,
          3.569981575012207,
          3.569981575012207,
          5.27161169052124,
          3.7676784992218018,
          3.7676784992218018,
          3.7676784992218018,
          3.7676784992218018,
          3.7676784992218018,
          6.531169891357422,
          6.531169891357422,
          6.531169891357422,
          6.531169891357422,
          6.531169891357422,
          6.1427435874938965,
          6.1427435874938965,
          8.389248847961426,
          7.435891151428223,
          9.511211395263672,
          4.618313789367676,
          4.618313789367676,
          4.618313789367676,
          4.618313789367676,
          2.576063871383667,
          2.4214186668395996,
          2.4214186668395996,
          2.4214186668395996,
          5.6736884117126465,
          8.855152130126953,
          0.3883805572986603,
          0.3883805572986603,
          0.3883805572986603,
          -1.1946994066238403,
          -2.143519401550293,
          -2.1189117431640625,
          -2.1189117431640625,
          -2.1189117431640625,
          -2.1189117431640625,
          -0.7694692611694336,
          -4.6235222816467285,
          -4.6235222816467285,
          -4.6235222816467285,
          -4.6235222816467285,
          -7.148880481719971
         ],
         "y": [
          9.51635456085205,
          9.51635456085205,
          9.51635456085205,
          9.51635456085205,
          9.51635456085205,
          7.6600422859191895,
          7.6600422859191895,
          7.6600422859191895,
          4.515377521514893,
          1.9486775398254395,
          7.057967185974121,
          7.057967185974121,
          7.057967185974121,
          7.057967185974121,
          5.984951019287109,
          8.214435577392578,
          8.214435577392578,
          8.214435577392578,
          8.214435577392578,
          9.418630599975586,
          7.834298133850098,
          7.834298133850098,
          7.834298133850098,
          7.834298133850098,
          5.753815174102783,
          7.873571395874023,
          7.873571395874023,
          7.873571395874023,
          7.873571395874023,
          11.359174728393555,
          6.251483917236328,
          6.251483917236328,
          6.251483917236328,
          6.251483917236328,
          6.251483917236328,
          5.592453479766846,
          5.592453479766846,
          5.592453479766846,
          5.592453479766846,
          7.434257507324219,
          3.157331943511963,
          3.157331943511963,
          1.9667441844940186,
          -0.4195985794067383,
          -0.4385213851928711,
          0.35132041573524475,
          0.35132041573524475,
          0.35132041573524475,
          0.35132041573524475,
          -0.70831698179245,
          -2.783446788787842,
          -2.783446788787842,
          -3.784850597381592,
          -5.427579879760742,
          -6.748549938201904,
          -6.327057838439941,
          -6.327057838439941,
          -6.327057838439941,
          -6.327057838439941,
          -6.151548385620117,
          -9.1211576461792,
          -9.1211576461792,
          -9.1211576461792,
          -9.1211576461792,
          -8.359302520751953,
          -12.10980224609375,
          -12.10980224609375,
          -12.10980224609375,
          -11.597505569458008,
          -10.521495819091797,
          -12.67641830444336,
          -12.67641830444336,
          -12.67641830444336,
          -12.67641830444336,
          -12.670706748962402,
          -12.655261039733887,
          -12.655261039733887,
          -12.655261039733887,
          -12.655261039733887,
          -14.958601951599121,
          -10.593518257141113,
          -10.593518257141113,
          -10.593518257141113,
          -12.345610618591309,
          -14.80565071105957,
          -8.891472816467285,
          -8.891472816467285,
          -8.891472816467285,
          -8.891472816467285,
          -9.231648445129395,
          -6.028697967529297,
          -6.028697967529297,
          -6.028697967529297,
          -6.028697967529297,
          -5.426908493041992,
          -3.9270498752593994,
          -3.9270498752593994,
          -3.9270498752593994,
          -3.9270498752593994,
          -5.416008472442627,
          -0.9439334869384766,
          -0.9439334869384766,
          -0.9439334869384766,
          -0.9439334869384766,
          0.19766777753829956,
          2.4775896072387695,
          2.4775896072387695,
          2.4775896072387695,
          1.3986914157867432,
          -0.07830476760864258,
          4.972666263580322,
          4.972666263580322,
          4.972666263580322,
          4.068451881408691,
          2.6178791522979736,
          7.2981672286987305,
          7.2981672286987305,
          7.2981672286987305,
          7.2981672286987305,
          7.2981672286987305,
          6.982226848602295,
          6.982226848602295,
          6.982226848602295,
          6.982226848602295,
          4.502963066101074,
          7.134949684143066,
          7.134949684143066,
          7.134949684143066,
          7.134949684143066,
          10.482025146484375,
          5.858928203582764,
          5.858928203582764,
          5.858928203582764,
          5.858928203582764,
          2.8761203289031982,
          4.070996284484863,
          4.070996284484863,
          4.070996284484863,
          4.070996284484863,
          4.481400012969971,
          3.6242713928222656,
          3.6242713928222656,
          3.6242713928222656,
          3.6242713928222656,
          4.08721923828125,
          1.2068926095962524,
          1.2068926095962524,
          1.2068926095962524,
          1.2068926095962524,
          0.13911569118499756,
          0.007399141788482666,
          0.007399141788482666,
          0.007399141788482666,
          0.007399141788482666,
          -2.3424947261810303,
          0.4440042972564697,
          0.4440042972564697,
          0.4440042972564697,
          0.4440042972564697,
          2.971942901611328,
          -1.3373088836669922,
          -1.3373088836669922,
          -1.3373088836669922,
          -1.3373088836669922,
          -1.7390964031219482,
          -2.8458845615386963,
          -2.8458845615386963,
          -2.8458845615386963,
          -2.8458845615386963,
          -5.247059345245361,
          -1.8273868560791016,
          -1.8273868560791016,
          -1.8273868560791016,
          -1.9079864025115967,
          -2.056558132171631,
          -3.2144246101379395,
          -3.2144246101379395,
          -3.2144246101379395,
          -3.2144246101379395,
          -4.637148857116699,
          -3.9955673217773438,
          -6.759373664855957,
          -8.163895606994629,
          -6.556917190551758,
          -7.980504035949707,
          -2.52392840385437,
          0.2831707000732422,
          0.9937348365783691,
          0.9717748165130615,
          1.7271811962127686,
          -1.6331803798675537,
          -1.6331803798675537,
          -1.6331803798675537,
          -4.697609901428223,
          -7.551078796386719,
          -1.1457788944244385,
          -1.1457788944244385,
          -1.1457788944244385,
          -1.1457788944244385,
          0.5832375884056091,
          0.49418970942497253,
          0.49418970942497253,
          0.49418970942497253,
          0.49418970942497253,
          0.7820013761520386,
          -0.5355057716369629,
          -0.5355057716369629,
          -0.5355057716369629,
          -0.5355057716369629,
          -0.6320591568946838,
          -0.40073633193969727,
          -0.40073633193969727,
          -0.40073633193969727,
          -0.40073633193969727,
          -0.7917628288269043,
          -3.009427070617676,
          -3.009427070617676,
          -3.009427070617676,
          -3.009427070617676,
          -4.17662239074707,
          -3.593514919281006,
          -3.593514919281006,
          -3.593514919281006,
          -6.383547782897949,
          -8.916162490844727,
          -4.926595687866211,
          -4.926595687866211,
          -4.926595687866211,
          -4.926595687866211,
          -3.2203588485717773,
          -4.714344501495361,
          -4.714344501495361,
          -4.714344501495361,
          -4.714344501495361,
          -4.714344501495361,
          -5.170250415802002,
          -5.170250415802002,
          -6.171120643615723,
          -6.397734642028809,
          -5.442538738250732,
          -3.271618604660034,
          -3.271618604660034,
          -3.271618604660034,
          -3.271618604660034,
          -1.3967185020446777,
          -1.6176834106445312,
          -1.6176834106445312,
          -1.6176834106445312,
          -1.6176834106445312,
          -2.551525592803955,
          0.25847285985946655,
          0.25847285985946655,
          0.25847285985946655,
          0.25847285985946655,
          0.25847285985946655,
          1.3228745460510254,
          1.3228745460510254,
          1.3228745460510254,
          1.3228745460510254,
          1.3228745460510254,
          2.831516742706299,
          2.831516742706299,
          2.1023848056793213,
          2.4716548919677734,
          3.413032054901123,
          5.217594146728516,
          5.217594146728516,
          5.217594146728516,
          5.217594146728516,
          3.4830427169799805,
          8.114540100097656,
          8.114540100097656,
          8.114540100097656,
          9.476093292236328,
          10.107254981994629,
          10.236577033996582,
          10.236577033996582,
          10.236577033996582,
          8.733184814453125,
          6.917318344116211,
          11.835884094238281,
          11.835884094238281,
          11.835884094238281,
          11.835884094238281,
          12.04604434967041,
          10.859646797180176,
          10.859646797180176,
          10.859646797180176,
          10.859646797180176,
          13.148530006408691
         ],
         "z": [
          -4.737460136413574,
          -4.737460136413574,
          -4.737460136413574,
          -4.737460136413574,
          -4.737460136413574,
          -4.217727184295654,
          -4.217727184295654,
          -4.217727184295654,
          -5.857033729553223,
          -7.647144317626953,
          -4.021417617797852,
          -4.021417617797852,
          -4.021417617797852,
          -4.021417617797852,
          0.30646777153015137,
          -4.252765655517578,
          -4.252765655517578,
          -4.252765655517578,
          -4.252765655517578,
          -7.281528472900391,
          -5.964558124542236,
          -5.964558124542236,
          -5.964558124542236,
          -5.964558124542236,
          -4.081192970275879,
          -6.144347190856934,
          -6.144347190856934,
          -6.144347190856934,
          -6.144347190856934,
          -7.289258003234863,
          -7.5454020500183105,
          -7.5454020500183105,
          -7.5454020500183105,
          -7.5454020500183105,
          -7.5454020500183105,
          -6.417405128479004,
          -6.417405128479004,
          -6.417405128479004,
          -6.417405128479004,
          -3.2480335235595703,
          -7.441611289978027,
          -7.441611289978027,
          -6.974074363708496,
          -7.18028450012207,
          -8.370512962341309,
          -8.769298553466797,
          -8.769298553466797,
          -8.769298553466797,
          -8.769298553466797,
          -12.006959915161133,
          -9.780170440673828,
          -9.780170440673828,
          -6.752110958099365,
          -6.837048053741455,
          -5.172625541687012,
          -9.428089141845703,
          -9.428089141845703,
          -9.428089141845703,
          -9.428089141845703,
          -13.011402130126953,
          -9.372028350830078,
          -9.372028350830078,
          -9.372028350830078,
          -9.372028350830078,
          -10.640344619750977,
          -7.684499263763428,
          -7.684499263763428,
          -7.684499263763428,
          -6.086409568786621,
          -4.898293495178223,
          -8.346395492553711,
          -8.346395492553711,
          -8.346395492553711,
          -8.346395492553711,
          -5.814192295074463,
          -8.584022521972656,
          -8.584022521972656,
          -8.584022521972656,
          -8.584022521972656,
          -8.700960159301758,
          -7.130122661590576,
          -7.130122661590576,
          -7.130122661590576,
          -4.475750923156738,
          -2.0236916542053223,
          -7.998921871185303,
          -7.998921871185303,
          -7.998921871185303,
          -7.998921871185303,
          -4.997997283935547,
          -9.592706680297852,
          -9.592706680297852,
          -9.592706680297852,
          -9.592706680297852,
          -10.264677047729492,
          -11.767478942871094,
          -11.767478942871094,
          -11.767478942871094,
          -11.767478942871094,
          -13.62649917602539,
          -11.836398124694824,
          -11.836398124694824,
          -11.836398124694824,
          -11.836398124694824,
          -11.385406494140625,
          -12.098268508911133,
          -12.098268508911133,
          -12.098268508911133,
          -15.470949172973633,
          -18.38416290283203,
          -11.924266815185547,
          -11.924266815185547,
          -11.924266815185547,
          -10.309438705444336,
          -8.955854415893555,
          -11.273520469665527,
          -11.273520469665527,
          -11.273520469665527,
          -11.273520469665527,
          -11.273520469665527,
          -11.090102195739746,
          -11.090102195739746,
          -11.090102195739746,
          -11.090102195739746,
          -12.645879745483398,
          -10.949495315551758,
          -10.949495315551758,
          -10.949495315551758,
          -10.949495315551758,
          -10.921957969665527,
          -8.875386238098145,
          -8.875386238098145,
          -8.875386238098145,
          -8.875386238098145,
          -9.133157730102539,
          -7.574111461639404,
          -7.574111461639404,
          -7.574111461639404,
          -7.574111461639404,
          -9.582268714904785,
          -4.774085521697998,
          -4.774085521697998,
          -4.774085521697998,
          -4.774085521697998,
          -3.302924156188965,
          -2.74703049659729,
          -2.74703049659729,
          -2.74703049659729,
          -2.74703049659729,
          -6.055232048034668,
          -0.5205479860305786,
          -0.5205479860305786,
          -0.5205479860305786,
          -0.5205479860305786,
          -0.6560982465744019,
          2.495351791381836,
          2.495351791381836,
          2.495351791381836,
          2.495351791381836,
          2.772047758102417,
          4.448352813720703,
          4.448352813720703,
          4.448352813720703,
          4.448352813720703,
          3.9515016078948975,
          4.760522842407227,
          4.760522842407227,
          4.760522842407227,
          4.760522842407227,
          2.4321770668029785,
          4.683389663696289,
          4.683389663696289,
          4.683389663696289,
          8.210793495178223,
          11.256406784057617,
          2.920781135559082,
          2.920781135559082,
          2.920781135559082,
          2.920781135559082,
          4.07753324508667,
          0.963905930519104,
          -0.1769092082977295,
          0.6828078627586365,
          -2.475800037384033,
          -1.7084089517593384,
          -1.3918805122375488,
          0.49271661043167114,
          2.0365395545959473,
          2.29840350151062,
          3.986471652984619,
          -3.23850154876709,
          -3.23850154876709,
          -3.23850154876709,
          -2.5890989303588867,
          -1.488023281097412,
          -6.733948230743408,
          -6.733948230743408,
          -6.733948230743408,
          -6.733948230743408,
          -6.288747310638428,
          -9.487845420837402,
          -9.487845420837402,
          -9.487845420837402,
          -9.487845420837402,
          -9.383594512939453,
          -12.628859519958496,
          -12.628859519958496,
          -12.628859519958496,
          -12.628859519958496,
          -10.794468879699707,
          -15.451974868774414,
          -15.451974868774414,
          -15.451974868774414,
          -15.451974868774414,
          -16.01957130432129,
          -15.148589134216309,
          -15.148589134216309,
          -15.148589134216309,
          -15.148589134216309,
          -18.012800216674805,
          -12.352602005004883,
          -12.352602005004883,
          -12.352602005004883,
          -13.840182304382324,
          -16.022939682006836,
          -9.312159538269043,
          -9.312159538269043,
          -9.312159538269043,
          -9.312159538269043,
          -8.598100662231445,
          -7.179323196411133,
          -7.179323196411133,
          -7.179323196411133,
          -7.179323196411133,
          -7.179323196411133,
          -5.7485175132751465,
          -5.7485175132751465,
          -2.647937536239624,
          -1.9977893829345703,
          -0.2872586250305176,
          -3.7099108695983887,
          -3.7099108695983887,
          -3.7099108695983887,
          -3.7099108695983887,
          -5.767279148101807,
          -2.258248805999756,
          -2.258248805999756,
          -2.258248805999756,
          -2.258248805999756,
          -3.507145881652832,
          0.3824230432510376,
          0.3824230432510376,
          0.3824230432510376,
          0.3824230432510376,
          0.3824230432510376,
          -0.10299474000930786,
          -0.10299474000930786,
          -0.10299474000930786,
          -0.10299474000930786,
          -0.10299474000930786,
          -2.7331924438476562,
          -2.7331924438476562,
          -4.954706192016602,
          -7.123740196228027,
          -7.900434494018555,
          -2.157944679260254,
          -2.157944679260254,
          -2.157944679260254,
          -2.157944679260254,
          -3.007002830505371,
          -2.268446445465088,
          -2.268446445465088,
          -2.268446445465088,
          -1.6704212427139282,
          -1.283543348312378,
          -1.4308232069015503,
          -1.4308232069015503,
          -1.4308232069015503,
          1.4015599489212036,
          3.9455957412719727,
          -2.54547119140625,
          -2.54547119140625,
          -2.54547119140625,
          -2.54547119140625,
          -5.962390422821045,
          -1.5465630292892456,
          -1.5465630292892456,
          -1.5465630292892456,
          -1.5465630292892456,
          -1.4437839984893799
         ]
        }
       ],
       "layout": {
        "autosize": false,
        "height": 400,
        "legend": {
         "itemsizing": "constant",
         "tracegroupgap": 0
        },
        "margin": {
         "t": 60
        },
        "scene": {
         "domain": {
          "x": [
           0,
           1
          ],
          "y": [
           0,
           1
          ]
         },
         "xaxis": {
          "showgrid": false,
          "showticklabels": false,
          "title": {
           "text": "x"
          },
          "zeroline": false
         },
         "yaxis": {
          "showgrid": false,
          "showticklabels": false,
          "title": {
           "text": "y"
          },
          "zeroline": false
         },
         "zaxis": {
          "showgrid": false,
          "showticklabels": false,
          "title": {
           "text": "z"
          },
          "zeroline": false
         }
        },
        "template": {
         "data": {
          "bar": [
           {
            "error_x": {
             "color": "#2a3f5f"
            },
            "error_y": {
             "color": "#2a3f5f"
            },
            "marker": {
             "line": {
              "color": "#E5ECF6",
              "width": 0.5
             },
             "pattern": {
              "fillmode": "overlay",
              "size": 10,
              "solidity": 0.2
             }
            },
            "type": "bar"
           }
          ],
          "barpolar": [
           {
            "marker": {
             "line": {
              "color": "#E5ECF6",
              "width": 0.5
             },
             "pattern": {
              "fillmode": "overlay",
              "size": 10,
              "solidity": 0.2
             }
            },
            "type": "barpolar"
           }
          ],
          "carpet": [
           {
            "aaxis": {
             "endlinecolor": "#2a3f5f",
             "gridcolor": "white",
             "linecolor": "white",
             "minorgridcolor": "white",
             "startlinecolor": "#2a3f5f"
            },
            "baxis": {
             "endlinecolor": "#2a3f5f",
             "gridcolor": "white",
             "linecolor": "white",
             "minorgridcolor": "white",
             "startlinecolor": "#2a3f5f"
            },
            "type": "carpet"
           }
          ],
          "choropleth": [
           {
            "colorbar": {
             "outlinewidth": 0,
             "ticks": ""
            },
            "type": "choropleth"
           }
          ],
          "contour": [
           {
            "colorbar": {
             "outlinewidth": 0,
             "ticks": ""
            },
            "colorscale": [
             [
              0,
              "#0d0887"
             ],
             [
              0.1111111111111111,
              "#46039f"
             ],
             [
              0.2222222222222222,
              "#7201a8"
             ],
             [
              0.3333333333333333,
              "#9c179e"
             ],
             [
              0.4444444444444444,
              "#bd3786"
             ],
             [
              0.5555555555555556,
              "#d8576b"
             ],
             [
              0.6666666666666666,
              "#ed7953"
             ],
             [
              0.7777777777777778,
              "#fb9f3a"
             ],
             [
              0.8888888888888888,
              "#fdca26"
             ],
             [
              1,
              "#f0f921"
             ]
            ],
            "type": "contour"
           }
          ],
          "contourcarpet": [
           {
            "colorbar": {
             "outlinewidth": 0,
             "ticks": ""
            },
            "type": "contourcarpet"
           }
          ],
          "heatmap": [
           {
            "colorbar": {
             "outlinewidth": 0,
             "ticks": ""
            },
            "colorscale": [
             [
              0,
              "#0d0887"
             ],
             [
              0.1111111111111111,
              "#46039f"
             ],
             [
              0.2222222222222222,
              "#7201a8"
             ],
             [
              0.3333333333333333,
              "#9c179e"
             ],
             [
              0.4444444444444444,
              "#bd3786"
             ],
             [
              0.5555555555555556,
              "#d8576b"
             ],
             [
              0.6666666666666666,
              "#ed7953"
             ],
             [
              0.7777777777777778,
              "#fb9f3a"
             ],
             [
              0.8888888888888888,
              "#fdca26"
             ],
             [
              1,
              "#f0f921"
             ]
            ],
            "type": "heatmap"
           }
          ],
          "heatmapgl": [
           {
            "colorbar": {
             "outlinewidth": 0,
             "ticks": ""
            },
            "colorscale": [
             [
              0,
              "#0d0887"
             ],
             [
              0.1111111111111111,
              "#46039f"
             ],
             [
              0.2222222222222222,
              "#7201a8"
             ],
             [
              0.3333333333333333,
              "#9c179e"
             ],
             [
              0.4444444444444444,
              "#bd3786"
             ],
             [
              0.5555555555555556,
              "#d8576b"
             ],
             [
              0.6666666666666666,
              "#ed7953"
             ],
             [
              0.7777777777777778,
              "#fb9f3a"
             ],
             [
              0.8888888888888888,
              "#fdca26"
             ],
             [
              1,
              "#f0f921"
             ]
            ],
            "type": "heatmapgl"
           }
          ],
          "histogram": [
           {
            "marker": {
             "pattern": {
              "fillmode": "overlay",
              "size": 10,
              "solidity": 0.2
             }
            },
            "type": "histogram"
           }
          ],
          "histogram2d": [
           {
            "colorbar": {
             "outlinewidth": 0,
             "ticks": ""
            },
            "colorscale": [
             [
              0,
              "#0d0887"
             ],
             [
              0.1111111111111111,
              "#46039f"
             ],
             [
              0.2222222222222222,
              "#7201a8"
             ],
             [
              0.3333333333333333,
              "#9c179e"
             ],
             [
              0.4444444444444444,
              "#bd3786"
             ],
             [
              0.5555555555555556,
              "#d8576b"
             ],
             [
              0.6666666666666666,
              "#ed7953"
             ],
             [
              0.7777777777777778,
              "#fb9f3a"
             ],
             [
              0.8888888888888888,
              "#fdca26"
             ],
             [
              1,
              "#f0f921"
             ]
            ],
            "type": "histogram2d"
           }
          ],
          "histogram2dcontour": [
           {
            "colorbar": {
             "outlinewidth": 0,
             "ticks": ""
            },
            "colorscale": [
             [
              0,
              "#0d0887"
             ],
             [
              0.1111111111111111,
              "#46039f"
             ],
             [
              0.2222222222222222,
              "#7201a8"
             ],
             [
              0.3333333333333333,
              "#9c179e"
             ],
             [
              0.4444444444444444,
              "#bd3786"
             ],
             [
              0.5555555555555556,
              "#d8576b"
             ],
             [
              0.6666666666666666,
              "#ed7953"
             ],
             [
              0.7777777777777778,
              "#fb9f3a"
             ],
             [
              0.8888888888888888,
              "#fdca26"
             ],
             [
              1,
              "#f0f921"
             ]
            ],
            "type": "histogram2dcontour"
           }
          ],
          "mesh3d": [
           {
            "colorbar": {
             "outlinewidth": 0,
             "ticks": ""
            },
            "type": "mesh3d"
           }
          ],
          "parcoords": [
           {
            "line": {
             "colorbar": {
              "outlinewidth": 0,
              "ticks": ""
             }
            },
            "type": "parcoords"
           }
          ],
          "pie": [
           {
            "automargin": true,
            "type": "pie"
           }
          ],
          "scatter": [
           {
            "fillpattern": {
             "fillmode": "overlay",
             "size": 10,
             "solidity": 0.2
            },
            "type": "scatter"
           }
          ],
          "scatter3d": [
           {
            "line": {
             "colorbar": {
              "outlinewidth": 0,
              "ticks": ""
             }
            },
            "marker": {
             "colorbar": {
              "outlinewidth": 0,
              "ticks": ""
             }
            },
            "type": "scatter3d"
           }
          ],
          "scattercarpet": [
           {
            "marker": {
             "colorbar": {
              "outlinewidth": 0,
              "ticks": ""
             }
            },
            "type": "scattercarpet"
           }
          ],
          "scattergeo": [
           {
            "marker": {
             "colorbar": {
              "outlinewidth": 0,
              "ticks": ""
             }
            },
            "type": "scattergeo"
           }
          ],
          "scattergl": [
           {
            "marker": {
             "colorbar": {
              "outlinewidth": 0,
              "ticks": ""
             }
            },
            "type": "scattergl"
           }
          ],
          "scattermapbox": [
           {
            "marker": {
             "colorbar": {
              "outlinewidth": 0,
              "ticks": ""
             }
            },
            "type": "scattermapbox"
           }
          ],
          "scatterpolar": [
           {
            "marker": {
             "colorbar": {
              "outlinewidth": 0,
              "ticks": ""
             }
            },
            "type": "scatterpolar"
           }
          ],
          "scatterpolargl": [
           {
            "marker": {
             "colorbar": {
              "outlinewidth": 0,
              "ticks": ""
             }
            },
            "type": "scatterpolargl"
           }
          ],
          "scatterternary": [
           {
            "marker": {
             "colorbar": {
              "outlinewidth": 0,
              "ticks": ""
             }
            },
            "type": "scatterternary"
           }
          ],
          "surface": [
           {
            "colorbar": {
             "outlinewidth": 0,
             "ticks": ""
            },
            "colorscale": [
             [
              0,
              "#0d0887"
             ],
             [
              0.1111111111111111,
              "#46039f"
             ],
             [
              0.2222222222222222,
              "#7201a8"
             ],
             [
              0.3333333333333333,
              "#9c179e"
             ],
             [
              0.4444444444444444,
              "#bd3786"
             ],
             [
              0.5555555555555556,
              "#d8576b"
             ],
             [
              0.6666666666666666,
              "#ed7953"
             ],
             [
              0.7777777777777778,
              "#fb9f3a"
             ],
             [
              0.8888888888888888,
              "#fdca26"
             ],
             [
              1,
              "#f0f921"
             ]
            ],
            "type": "surface"
           }
          ],
          "table": [
           {
            "cells": {
             "fill": {
              "color": "#EBF0F8"
             },
             "line": {
              "color": "white"
             }
            },
            "header": {
             "fill": {
              "color": "#C8D4E3"
             },
             "line": {
              "color": "white"
             }
            },
            "type": "table"
           }
          ]
         },
         "layout": {
          "annotationdefaults": {
           "arrowcolor": "#2a3f5f",
           "arrowhead": 0,
           "arrowwidth": 1
          },
          "autotypenumbers": "strict",
          "coloraxis": {
           "colorbar": {
            "outlinewidth": 0,
            "ticks": ""
           }
          },
          "colorscale": {
           "diverging": [
            [
             0,
             "#8e0152"
            ],
            [
             0.1,
             "#c51b7d"
            ],
            [
             0.2,
             "#de77ae"
            ],
            [
             0.3,
             "#f1b6da"
            ],
            [
             0.4,
             "#fde0ef"
            ],
            [
             0.5,
             "#f7f7f7"
            ],
            [
             0.6,
             "#e6f5d0"
            ],
            [
             0.7,
             "#b8e186"
            ],
            [
             0.8,
             "#7fbc41"
            ],
            [
             0.9,
             "#4d9221"
            ],
            [
             1,
             "#276419"
            ]
           ],
           "sequential": [
            [
             0,
             "#0d0887"
            ],
            [
             0.1111111111111111,
             "#46039f"
            ],
            [
             0.2222222222222222,
             "#7201a8"
            ],
            [
             0.3333333333333333,
             "#9c179e"
            ],
            [
             0.4444444444444444,
             "#bd3786"
            ],
            [
             0.5555555555555556,
             "#d8576b"
            ],
            [
             0.6666666666666666,
             "#ed7953"
            ],
            [
             0.7777777777777778,
             "#fb9f3a"
            ],
            [
             0.8888888888888888,
             "#fdca26"
            ],
            [
             1,
             "#f0f921"
            ]
           ],
           "sequentialminus": [
            [
             0,
             "#0d0887"
            ],
            [
             0.1111111111111111,
             "#46039f"
            ],
            [
             0.2222222222222222,
             "#7201a8"
            ],
            [
             0.3333333333333333,
             "#9c179e"
            ],
            [
             0.4444444444444444,
             "#bd3786"
            ],
            [
             0.5555555555555556,
             "#d8576b"
            ],
            [
             0.6666666666666666,
             "#ed7953"
            ],
            [
             0.7777777777777778,
             "#fb9f3a"
            ],
            [
             0.8888888888888888,
             "#fdca26"
            ],
            [
             1,
             "#f0f921"
            ]
           ]
          },
          "colorway": [
           "#636efa",
           "#EF553B",
           "#00cc96",
           "#ab63fa",
           "#FFA15A",
           "#19d3f3",
           "#FF6692",
           "#B6E880",
           "#FF97FF",
           "#FECB52"
          ],
          "font": {
           "color": "#2a3f5f"
          },
          "geo": {
           "bgcolor": "white",
           "lakecolor": "white",
           "landcolor": "#E5ECF6",
           "showlakes": true,
           "showland": true,
           "subunitcolor": "white"
          },
          "hoverlabel": {
           "align": "left"
          },
          "hovermode": "closest",
          "mapbox": {
           "style": "light"
          },
          "paper_bgcolor": "white",
          "plot_bgcolor": "#E5ECF6",
          "polar": {
           "angularaxis": {
            "gridcolor": "white",
            "linecolor": "white",
            "ticks": ""
           },
           "bgcolor": "#E5ECF6",
           "radialaxis": {
            "gridcolor": "white",
            "linecolor": "white",
            "ticks": ""
           }
          },
          "scene": {
           "xaxis": {
            "backgroundcolor": "#E5ECF6",
            "gridcolor": "white",
            "gridwidth": 2,
            "linecolor": "white",
            "showbackground": true,
            "ticks": "",
            "zerolinecolor": "white"
           },
           "yaxis": {
            "backgroundcolor": "#E5ECF6",
            "gridcolor": "white",
            "gridwidth": 2,
            "linecolor": "white",
            "showbackground": true,
            "ticks": "",
            "zerolinecolor": "white"
           },
           "zaxis": {
            "backgroundcolor": "#E5ECF6",
            "gridcolor": "white",
            "gridwidth": 2,
            "linecolor": "white",
            "showbackground": true,
            "ticks": "",
            "zerolinecolor": "white"
           }
          },
          "shapedefaults": {
           "line": {
            "color": "#2a3f5f"
           }
          },
          "ternary": {
           "aaxis": {
            "gridcolor": "white",
            "linecolor": "white",
            "ticks": ""
           },
           "baxis": {
            "gridcolor": "white",
            "linecolor": "white",
            "ticks": ""
           },
           "bgcolor": "#E5ECF6",
           "caxis": {
            "gridcolor": "white",
            "linecolor": "white",
            "ticks": ""
           }
          },
          "title": {
           "x": 0.05
          },
          "xaxis": {
           "automargin": true,
           "gridcolor": "white",
           "linecolor": "white",
           "ticks": "",
           "title": {
            "standoff": 15
           },
           "zerolinecolor": "white",
           "zerolinewidth": 2
          },
          "yaxis": {
           "automargin": true,
           "gridcolor": "white",
           "linecolor": "white",
           "ticks": "",
           "title": {
            "standoff": 15
           },
           "zerolinecolor": "white",
           "zerolinewidth": 2
          }
         }
        },
        "width": 800
       }
      },
      "text/html": [
       "<div>                            <div id=\"16ac32e7-fbd9-4699-afa7-9ea277d0fc90\" class=\"plotly-graph-div\" style=\"height:400px; width:800px;\"></div>            <script type=\"text/javascript\">                require([\"plotly\"], function(Plotly) {                    window.PLOTLYENV=window.PLOTLYENV || {};                                    if (document.getElementById(\"16ac32e7-fbd9-4699-afa7-9ea277d0fc90\")) {                    Plotly.newPlot(                        \"16ac32e7-fbd9-4699-afa7-9ea277d0fc90\",                        [{\"hovertemplate\":\"x=%{x}<br>y=%{y}<br>z=%{z}<br>size=%{marker.size}<extra></extra>\",\"legendgroup\":\"\",\"marker\":{\"color\":\"#636efa\",\"size\":[52.75571823120117,52.75571823120117,52.75571823120117,52.75571823120117,52.75571823120117,52.75571823120117,52.75571823120117,52.75571823120117,52.75571823120117,52.75571823120117,52.75571823120117,52.75571823120117,52.75571823120117,52.75571823120117,52.75571823120117,52.75571823120117,52.75571823120117,52.75571823120117,52.75571823120117,52.75571823120117,52.75571823120117,52.75571823120117,52.75571823120117,52.75571823120117,52.75571823120117,52.75571823120117,52.75571823120117,52.75571823120117,52.75571823120117,52.75571823120117,52.75571823120117,52.75571823120117,52.75571823120117,52.75571823120117,52.75571823120117,52.75571823120117,52.75571823120117,52.75571823120117,52.75571823120117,52.75571823120117,52.75571823120117,52.75571823120117,48.265869140625,48.265869140625,48.265869140625,52.75571823120117,52.75571823120117,52.75571823120117,52.75571823120117,52.75571823120117,52.75571823120117,52.75571823120117,48.265869140625,48.265869140625,48.265869140625,52.75571823120117,52.75571823120117,52.75571823120117,52.75571823120117,52.75571823120117,52.75571823120117,52.75571823120117,52.75571823120117,52.75571823120117,52.75571823120117,52.75571823120117,52.75571823120117,52.75571823120117,52.75571823120117,52.75571823120117,52.75571823120117,52.75571823120117,52.75571823120117,52.75571823120117,52.75571823120117,52.75571823120117,52.75571823120117,52.75571823120117,52.75571823120117,52.75571823120117,52.75571823120117,52.75571823120117,52.75571823120117,52.75571823120117,52.75571823120117,52.75571823120117,52.75571823120117,52.75571823120117,52.75571823120117,52.75571823120117,52.75571823120117,52.75571823120117,52.75571823120117,52.75571823120117,52.75571823120117,52.75571823120117,52.75571823120117,52.75571823120117,52.75571823120117,52.75571823120117,52.75571823120117,52.75571823120117,52.75571823120117,52.75571823120117,52.75571823120117,52.75571823120117,52.75571823120117,52.75571823120117,52.75571823120117,52.75571823120117,52.75571823120117,52.75571823120117,52.75571823120117,52.75571823120117,52.75571823120117,52.75571823120117,52.75571823120117,52.75571823120117,52.75571823120117,52.75571823120117,52.75571823120117,52.75571823120117,52.75571823120117,52.75571823120117,52.75571823120117,52.75571823120117,52.75571823120117,52.75571823120117,52.75571823120117,52.75571823120117,52.75571823120117,52.75571823120117,52.75571823120117,52.75571823120117,52.75571823120117,52.75571823120117,52.75571823120117,52.75571823120117,52.75571823120117,52.75571823120117,52.75571823120117,52.75571823120117,52.75571823120117,52.75571823120117,52.75571823120117,52.75571823120117,52.75571823120117,52.75571823120117,52.75571823120117,52.75571823120117,52.75571823120117,52.75571823120117,52.75571823120117,52.75571823120117,52.75571823120117,52.75571823120117,52.75571823120117,52.75571823120117,52.75571823120117,52.75571823120117,52.75571823120117,52.75571823120117,52.75571823120117,52.75571823120117,52.75571823120117,52.75571823120117,52.75571823120117,52.75571823120117,52.75571823120117,52.75571823120117,52.75571823120117,52.75571823120117,52.75571823120117,52.75571823120117,52.75571823120117,52.75571823120117,52.75571823120117,52.75571823120117,52.75571823120117,52.75571823120117,52.75571823120117,48.265869140625,48.265869140625,48.265869140625,48.265869140625,52.75571823120117,48.265869140625,48.265869140625,48.265869140625,48.265869140625,52.75571823120117,52.75571823120117,52.75571823120117,52.75571823120117,52.75571823120117,52.75571823120117,52.75571823120117,52.75571823120117,52.75571823120117,52.75571823120117,52.75571823120117,52.75571823120117,52.75571823120117,52.75571823120117,52.75571823120117,52.75571823120117,52.75571823120117,52.75571823120117,52.75571823120117,52.75571823120117,52.75571823120117,52.75571823120117,52.75571823120117,52.75571823120117,52.75571823120117,52.75571823120117,52.75571823120117,52.75571823120117,52.75571823120117,52.75571823120117,52.75571823120117,52.75571823120117,52.75571823120117,52.75571823120117,52.75571823120117,52.75571823120117,52.75571823120117,52.75571823120117,52.75571823120117,52.75571823120117,52.75571823120117,52.75571823120117,52.75571823120117,52.75571823120117,52.75571823120117,52.75571823120117,52.75571823120117,48.265869140625,48.265869140625,48.265869140625,52.75571823120117,52.75571823120117,52.75571823120117,52.75571823120117,52.75571823120117,52.75571823120117,52.75571823120117,52.75571823120117,52.75571823120117,52.75571823120117,52.75571823120117,52.75571823120117,52.75571823120117,52.75571823120117,52.75571823120117,52.75571823120117,52.75571823120117,52.75571823120117,52.75571823120117,52.75571823120117,52.75571823120117,52.75571823120117,48.265869140625,48.265869140625,48.265869140625,52.75571823120117,52.75571823120117,52.75571823120117,52.75571823120117,52.75571823120117,52.75571823120117,52.75571823120117,52.75571823120117,52.75571823120117,52.75571823120117,52.75571823120117,52.75571823120117,52.75571823120117,52.75571823120117,52.75571823120117,52.75571823120117,52.75571823120117,52.75571823120117,52.75571823120117,52.75571823120117,52.75571823120117,52.75571823120117,52.75571823120117,52.75571823120117,52.75571823120117],\"sizemode\":\"area\",\"sizeref\":0.13188929557800294,\"symbol\":\"circle\"},\"mode\":\"markers\",\"name\":\"\",\"scene\":\"scene\",\"showlegend\":false,\"x\":[-12.022724151611328,-12.022724151611328,-12.022724151611328,-12.022724151611328,-12.022724151611328,-10.367928504943848,-10.367928504943848,-10.367928504943848,-10.828882217407227,-11.765528678894043,-7.276062965393066,-7.276062965393066,-7.276062965393066,-7.276062965393066,-6.767646789550781,-3.8220558166503906,-3.8220558166503906,-3.8220558166503906,-3.8220558166503906,-5.52998161315918,-0.6300660371780396,-0.6300660371780396,-0.6300660371780396,-0.6300660371780396,-0.47232481837272644,2.6281747817993164,2.6281747817993164,2.6281747817993164,2.6281747817993164,2.9114456176757812,5.21151065826416,5.21151065826416,5.21151065826416,5.21151065826416,5.21151065826416,8.24649715423584,8.24649715423584,8.24649715423584,8.24649715423584,7.925032615661621,8.825634002685547,8.825634002685547,11.805139541625977,11.691976547241211,13.784677505493164,8.955177307128906,8.955177307128906,8.955177307128906,8.955177307128906,8.807879447937012,7.240180015563965,7.240180015563965,6.655726432800293,4.910965919494629,6.042839050292969,6.851869106292725,6.851869106292725,6.851869106292725,6.851869106292725,9.602744102478027,5.544225692749023,5.544225692749023,5.544225692749023,5.544225692749023,1.307316780090332,4.5034379959106445,4.5034379959106445,4.5034379959106445,7.661345958709717,10.507453918457031,1.7915836572647095,1.7915836572647095,1.7915836572647095,1.7915836572647095,1.5217547416687012,-1.3275333642959595,-1.3275333642959595,-1.3275333642959595,-1.3275333642959595,-1.4186313152313232,-1.7568809986114502,-1.7568809986114502,-1.7568809986114502,-3.40549898147583,-4.921767234802246,-0.16674429178237915,-0.16674429178237915,-0.16674429178237915,-0.16674429178237915,3.1527702808380127,1.3647065162658691,1.3647065162658691,1.3647065162658691,1.3647065162658691,-1.2973718643188477,2.5483052730560303,2.5483052730560303,2.5483052730560303,2.5483052730560303,3.9361672401428223,4.690686225891113,4.690686225891113,4.690686225891113,4.690686225891113,1.049088954925537,5.767890453338623,5.767890453338623,5.767890453338623,6.267614841461182,6.305302619934082,7.49934196472168,7.49934196472168,7.49934196472168,10.559318542480469,13.154197692871094,5.505239009857178,5.505239009857178,5.505239009857178,5.505239009857178,5.505239009857178,2.9436397552490234,2.9436397552490234,2.9436397552490234,2.9436397552490234,1.1944141387939453,-0.25329452753067017,-0.25329452753067017,-0.25329452753067017,-0.25329452753067017,-0.9607850909233093,-2.3598203659057617,-2.3598203659057617,-2.3598203659057617,-2.3598203659057617,-0.22044897079467773,-4.942282676696777,-4.942282676696777,-4.942282676696777,-4.942282676696777,-6.785646438598633,-6.170094966888428,-6.170094966888428,-6.170094966888428,-6.170094966888428,-2.8291573524475098,-7.584768295288086,-7.584768295288086,-7.584768295288086,-7.584768295288086,-8.791481971740723,-6.420164108276367,-6.420164108276367,-6.420164108276367,-6.420164108276367,-9.201472282409668,-5.425273895263672,-5.425273895263672,-5.425273895263672,-5.425273895263672,-5.291632652282715,-5.4921112060546875,-5.4921112060546875,-5.4921112060546875,-5.4921112060546875,-8.17368221282959,-3.357949733734131,-3.357949733734131,-3.357949733734131,-3.357949733734131,-4.803361892700195,-0.8370043039321899,-0.8370043039321899,-0.8370043039321899,-1.4197973012924194,-2.5910863876342773,0.9403513669967651,0.9403513669967651,0.9403513669967651,0.9403513669967651,3.815202236175537,-0.3018452525138855,1.2874839305877686,2.706263542175293,3.0895702838897705,4.650010585784912,-1.695817470550537,-1.509973168373108,-0.15481960773468018,-3.7096829414367676,-2.4328718185424805,-4.28684663772583,-4.28684663772583,-4.28684663772583,-6.012033462524414,-7.158810615539551,-4.920372486114502,-4.920372486114502,-4.920372486114502,-4.920372486114502,-2.7495076656341553,-5.501775741577148,-5.501775741577148,-5.501775741577148,-5.501775741577148,-9.979133605957031,-4.271866798400879,-4.271866798400879,-4.271866798400879,-4.271866798400879,-2.1444172859191895,-4.572414398193359,-4.572414398193359,-4.572414398193359,-4.572414398193359,-0.99456787109375,-6.172077178955078,-6.172077178955078,-6.172077178955078,-6.172077178955078,-7.607672214508057,-6.333833694458008,-6.333833694458008,-6.333833694458008,-4.649706840515137,-2.865081310272217,-6.539303302764893,-6.539303302764893,-6.539303302764893,-6.539303302764893,-10.664485931396484,-3.8982651233673096,-3.8982651233673096,-3.8982651233673096,-3.8982651233673096,-3.8982651233673096,-0.9469285011291504,-0.9469285011291504,-0.9495176076889038,1.3533074855804443,0.31677794456481934,1.356137990951538,1.356137990951538,1.356137990951538,1.356137990951538,0.9658288359642029,3.569981575012207,3.569981575012207,3.569981575012207,3.569981575012207,5.27161169052124,3.7676784992218018,3.7676784992218018,3.7676784992218018,3.7676784992218018,3.7676784992218018,6.531169891357422,6.531169891357422,6.531169891357422,6.531169891357422,6.531169891357422,6.1427435874938965,6.1427435874938965,8.389248847961426,7.435891151428223,9.511211395263672,4.618313789367676,4.618313789367676,4.618313789367676,4.618313789367676,2.576063871383667,2.4214186668395996,2.4214186668395996,2.4214186668395996,5.6736884117126465,8.855152130126953,0.3883805572986603,0.3883805572986603,0.3883805572986603,-1.1946994066238403,-2.143519401550293,-2.1189117431640625,-2.1189117431640625,-2.1189117431640625,-2.1189117431640625,-0.7694692611694336,-4.6235222816467285,-4.6235222816467285,-4.6235222816467285,-4.6235222816467285,-7.148880481719971],\"y\":[9.51635456085205,9.51635456085205,9.51635456085205,9.51635456085205,9.51635456085205,7.6600422859191895,7.6600422859191895,7.6600422859191895,4.515377521514893,1.9486775398254395,7.057967185974121,7.057967185974121,7.057967185974121,7.057967185974121,5.984951019287109,8.214435577392578,8.214435577392578,8.214435577392578,8.214435577392578,9.418630599975586,7.834298133850098,7.834298133850098,7.834298133850098,7.834298133850098,5.753815174102783,7.873571395874023,7.873571395874023,7.873571395874023,7.873571395874023,11.359174728393555,6.251483917236328,6.251483917236328,6.251483917236328,6.251483917236328,6.251483917236328,5.592453479766846,5.592453479766846,5.592453479766846,5.592453479766846,7.434257507324219,3.157331943511963,3.157331943511963,1.9667441844940186,-0.4195985794067383,-0.4385213851928711,0.35132041573524475,0.35132041573524475,0.35132041573524475,0.35132041573524475,-0.70831698179245,-2.783446788787842,-2.783446788787842,-3.784850597381592,-5.427579879760742,-6.748549938201904,-6.327057838439941,-6.327057838439941,-6.327057838439941,-6.327057838439941,-6.151548385620117,-9.1211576461792,-9.1211576461792,-9.1211576461792,-9.1211576461792,-8.359302520751953,-12.10980224609375,-12.10980224609375,-12.10980224609375,-11.597505569458008,-10.521495819091797,-12.67641830444336,-12.67641830444336,-12.67641830444336,-12.67641830444336,-12.670706748962402,-12.655261039733887,-12.655261039733887,-12.655261039733887,-12.655261039733887,-14.958601951599121,-10.593518257141113,-10.593518257141113,-10.593518257141113,-12.345610618591309,-14.80565071105957,-8.891472816467285,-8.891472816467285,-8.891472816467285,-8.891472816467285,-9.231648445129395,-6.028697967529297,-6.028697967529297,-6.028697967529297,-6.028697967529297,-5.426908493041992,-3.9270498752593994,-3.9270498752593994,-3.9270498752593994,-3.9270498752593994,-5.416008472442627,-0.9439334869384766,-0.9439334869384766,-0.9439334869384766,-0.9439334869384766,0.19766777753829956,2.4775896072387695,2.4775896072387695,2.4775896072387695,1.3986914157867432,-0.07830476760864258,4.972666263580322,4.972666263580322,4.972666263580322,4.068451881408691,2.6178791522979736,7.2981672286987305,7.2981672286987305,7.2981672286987305,7.2981672286987305,7.2981672286987305,6.982226848602295,6.982226848602295,6.982226848602295,6.982226848602295,4.502963066101074,7.134949684143066,7.134949684143066,7.134949684143066,7.134949684143066,10.482025146484375,5.858928203582764,5.858928203582764,5.858928203582764,5.858928203582764,2.8761203289031982,4.070996284484863,4.070996284484863,4.070996284484863,4.070996284484863,4.481400012969971,3.6242713928222656,3.6242713928222656,3.6242713928222656,3.6242713928222656,4.08721923828125,1.2068926095962524,1.2068926095962524,1.2068926095962524,1.2068926095962524,0.13911569118499756,0.007399141788482666,0.007399141788482666,0.007399141788482666,0.007399141788482666,-2.3424947261810303,0.4440042972564697,0.4440042972564697,0.4440042972564697,0.4440042972564697,2.971942901611328,-1.3373088836669922,-1.3373088836669922,-1.3373088836669922,-1.3373088836669922,-1.7390964031219482,-2.8458845615386963,-2.8458845615386963,-2.8458845615386963,-2.8458845615386963,-5.247059345245361,-1.8273868560791016,-1.8273868560791016,-1.8273868560791016,-1.9079864025115967,-2.056558132171631,-3.2144246101379395,-3.2144246101379395,-3.2144246101379395,-3.2144246101379395,-4.637148857116699,-3.9955673217773438,-6.759373664855957,-8.163895606994629,-6.556917190551758,-7.980504035949707,-2.52392840385437,0.2831707000732422,0.9937348365783691,0.9717748165130615,1.7271811962127686,-1.6331803798675537,-1.6331803798675537,-1.6331803798675537,-4.697609901428223,-7.551078796386719,-1.1457788944244385,-1.1457788944244385,-1.1457788944244385,-1.1457788944244385,0.5832375884056091,0.49418970942497253,0.49418970942497253,0.49418970942497253,0.49418970942497253,0.7820013761520386,-0.5355057716369629,-0.5355057716369629,-0.5355057716369629,-0.5355057716369629,-0.6320591568946838,-0.40073633193969727,-0.40073633193969727,-0.40073633193969727,-0.40073633193969727,-0.7917628288269043,-3.009427070617676,-3.009427070617676,-3.009427070617676,-3.009427070617676,-4.17662239074707,-3.593514919281006,-3.593514919281006,-3.593514919281006,-6.383547782897949,-8.916162490844727,-4.926595687866211,-4.926595687866211,-4.926595687866211,-4.926595687866211,-3.2203588485717773,-4.714344501495361,-4.714344501495361,-4.714344501495361,-4.714344501495361,-4.714344501495361,-5.170250415802002,-5.170250415802002,-6.171120643615723,-6.397734642028809,-5.442538738250732,-3.271618604660034,-3.271618604660034,-3.271618604660034,-3.271618604660034,-1.3967185020446777,-1.6176834106445312,-1.6176834106445312,-1.6176834106445312,-1.6176834106445312,-2.551525592803955,0.25847285985946655,0.25847285985946655,0.25847285985946655,0.25847285985946655,0.25847285985946655,1.3228745460510254,1.3228745460510254,1.3228745460510254,1.3228745460510254,1.3228745460510254,2.831516742706299,2.831516742706299,2.1023848056793213,2.4716548919677734,3.413032054901123,5.217594146728516,5.217594146728516,5.217594146728516,5.217594146728516,3.4830427169799805,8.114540100097656,8.114540100097656,8.114540100097656,9.476093292236328,10.107254981994629,10.236577033996582,10.236577033996582,10.236577033996582,8.733184814453125,6.917318344116211,11.835884094238281,11.835884094238281,11.835884094238281,11.835884094238281,12.04604434967041,10.859646797180176,10.859646797180176,10.859646797180176,10.859646797180176,13.148530006408691],\"z\":[-4.737460136413574,-4.737460136413574,-4.737460136413574,-4.737460136413574,-4.737460136413574,-4.217727184295654,-4.217727184295654,-4.217727184295654,-5.857033729553223,-7.647144317626953,-4.021417617797852,-4.021417617797852,-4.021417617797852,-4.021417617797852,0.30646777153015137,-4.252765655517578,-4.252765655517578,-4.252765655517578,-4.252765655517578,-7.281528472900391,-5.964558124542236,-5.964558124542236,-5.964558124542236,-5.964558124542236,-4.081192970275879,-6.144347190856934,-6.144347190856934,-6.144347190856934,-6.144347190856934,-7.289258003234863,-7.5454020500183105,-7.5454020500183105,-7.5454020500183105,-7.5454020500183105,-7.5454020500183105,-6.417405128479004,-6.417405128479004,-6.417405128479004,-6.417405128479004,-3.2480335235595703,-7.441611289978027,-7.441611289978027,-6.974074363708496,-7.18028450012207,-8.370512962341309,-8.769298553466797,-8.769298553466797,-8.769298553466797,-8.769298553466797,-12.006959915161133,-9.780170440673828,-9.780170440673828,-6.752110958099365,-6.837048053741455,-5.172625541687012,-9.428089141845703,-9.428089141845703,-9.428089141845703,-9.428089141845703,-13.011402130126953,-9.372028350830078,-9.372028350830078,-9.372028350830078,-9.372028350830078,-10.640344619750977,-7.684499263763428,-7.684499263763428,-7.684499263763428,-6.086409568786621,-4.898293495178223,-8.346395492553711,-8.346395492553711,-8.346395492553711,-8.346395492553711,-5.814192295074463,-8.584022521972656,-8.584022521972656,-8.584022521972656,-8.584022521972656,-8.700960159301758,-7.130122661590576,-7.130122661590576,-7.130122661590576,-4.475750923156738,-2.0236916542053223,-7.998921871185303,-7.998921871185303,-7.998921871185303,-7.998921871185303,-4.997997283935547,-9.592706680297852,-9.592706680297852,-9.592706680297852,-9.592706680297852,-10.264677047729492,-11.767478942871094,-11.767478942871094,-11.767478942871094,-11.767478942871094,-13.62649917602539,-11.836398124694824,-11.836398124694824,-11.836398124694824,-11.836398124694824,-11.385406494140625,-12.098268508911133,-12.098268508911133,-12.098268508911133,-15.470949172973633,-18.38416290283203,-11.924266815185547,-11.924266815185547,-11.924266815185547,-10.309438705444336,-8.955854415893555,-11.273520469665527,-11.273520469665527,-11.273520469665527,-11.273520469665527,-11.273520469665527,-11.090102195739746,-11.090102195739746,-11.090102195739746,-11.090102195739746,-12.645879745483398,-10.949495315551758,-10.949495315551758,-10.949495315551758,-10.949495315551758,-10.921957969665527,-8.875386238098145,-8.875386238098145,-8.875386238098145,-8.875386238098145,-9.133157730102539,-7.574111461639404,-7.574111461639404,-7.574111461639404,-7.574111461639404,-9.582268714904785,-4.774085521697998,-4.774085521697998,-4.774085521697998,-4.774085521697998,-3.302924156188965,-2.74703049659729,-2.74703049659729,-2.74703049659729,-2.74703049659729,-6.055232048034668,-0.5205479860305786,-0.5205479860305786,-0.5205479860305786,-0.5205479860305786,-0.6560982465744019,2.495351791381836,2.495351791381836,2.495351791381836,2.495351791381836,2.772047758102417,4.448352813720703,4.448352813720703,4.448352813720703,4.448352813720703,3.9515016078948975,4.760522842407227,4.760522842407227,4.760522842407227,4.760522842407227,2.4321770668029785,4.683389663696289,4.683389663696289,4.683389663696289,8.210793495178223,11.256406784057617,2.920781135559082,2.920781135559082,2.920781135559082,2.920781135559082,4.07753324508667,0.963905930519104,-0.1769092082977295,0.6828078627586365,-2.475800037384033,-1.7084089517593384,-1.3918805122375488,0.49271661043167114,2.0365395545959473,2.29840350151062,3.986471652984619,-3.23850154876709,-3.23850154876709,-3.23850154876709,-2.5890989303588867,-1.488023281097412,-6.733948230743408,-6.733948230743408,-6.733948230743408,-6.733948230743408,-6.288747310638428,-9.487845420837402,-9.487845420837402,-9.487845420837402,-9.487845420837402,-9.383594512939453,-12.628859519958496,-12.628859519958496,-12.628859519958496,-12.628859519958496,-10.794468879699707,-15.451974868774414,-15.451974868774414,-15.451974868774414,-15.451974868774414,-16.01957130432129,-15.148589134216309,-15.148589134216309,-15.148589134216309,-15.148589134216309,-18.012800216674805,-12.352602005004883,-12.352602005004883,-12.352602005004883,-13.840182304382324,-16.022939682006836,-9.312159538269043,-9.312159538269043,-9.312159538269043,-9.312159538269043,-8.598100662231445,-7.179323196411133,-7.179323196411133,-7.179323196411133,-7.179323196411133,-7.179323196411133,-5.7485175132751465,-5.7485175132751465,-2.647937536239624,-1.9977893829345703,-0.2872586250305176,-3.7099108695983887,-3.7099108695983887,-3.7099108695983887,-3.7099108695983887,-5.767279148101807,-2.258248805999756,-2.258248805999756,-2.258248805999756,-2.258248805999756,-3.507145881652832,0.3824230432510376,0.3824230432510376,0.3824230432510376,0.3824230432510376,0.3824230432510376,-0.10299474000930786,-0.10299474000930786,-0.10299474000930786,-0.10299474000930786,-0.10299474000930786,-2.7331924438476562,-2.7331924438476562,-4.954706192016602,-7.123740196228027,-7.900434494018555,-2.157944679260254,-2.157944679260254,-2.157944679260254,-2.157944679260254,-3.007002830505371,-2.268446445465088,-2.268446445465088,-2.268446445465088,-1.6704212427139282,-1.283543348312378,-1.4308232069015503,-1.4308232069015503,-1.4308232069015503,1.4015599489212036,3.9455957412719727,-2.54547119140625,-2.54547119140625,-2.54547119140625,-2.54547119140625,-5.962390422821045,-1.5465630292892456,-1.5465630292892456,-1.5465630292892456,-1.5465630292892456,-1.4437839984893799],\"type\":\"scatter3d\"}],                        {\"template\":{\"data\":{\"histogram2dcontour\":[{\"type\":\"histogram2dcontour\",\"colorbar\":{\"outlinewidth\":0,\"ticks\":\"\"},\"colorscale\":[[0.0,\"#0d0887\"],[0.1111111111111111,\"#46039f\"],[0.2222222222222222,\"#7201a8\"],[0.3333333333333333,\"#9c179e\"],[0.4444444444444444,\"#bd3786\"],[0.5555555555555556,\"#d8576b\"],[0.6666666666666666,\"#ed7953\"],[0.7777777777777778,\"#fb9f3a\"],[0.8888888888888888,\"#fdca26\"],[1.0,\"#f0f921\"]]}],\"choropleth\":[{\"type\":\"choropleth\",\"colorbar\":{\"outlinewidth\":0,\"ticks\":\"\"}}],\"histogram2d\":[{\"type\":\"histogram2d\",\"colorbar\":{\"outlinewidth\":0,\"ticks\":\"\"},\"colorscale\":[[0.0,\"#0d0887\"],[0.1111111111111111,\"#46039f\"],[0.2222222222222222,\"#7201a8\"],[0.3333333333333333,\"#9c179e\"],[0.4444444444444444,\"#bd3786\"],[0.5555555555555556,\"#d8576b\"],[0.6666666666666666,\"#ed7953\"],[0.7777777777777778,\"#fb9f3a\"],[0.8888888888888888,\"#fdca26\"],[1.0,\"#f0f921\"]]}],\"heatmap\":[{\"type\":\"heatmap\",\"colorbar\":{\"outlinewidth\":0,\"ticks\":\"\"},\"colorscale\":[[0.0,\"#0d0887\"],[0.1111111111111111,\"#46039f\"],[0.2222222222222222,\"#7201a8\"],[0.3333333333333333,\"#9c179e\"],[0.4444444444444444,\"#bd3786\"],[0.5555555555555556,\"#d8576b\"],[0.6666666666666666,\"#ed7953\"],[0.7777777777777778,\"#fb9f3a\"],[0.8888888888888888,\"#fdca26\"],[1.0,\"#f0f921\"]]}],\"heatmapgl\":[{\"type\":\"heatmapgl\",\"colorbar\":{\"outlinewidth\":0,\"ticks\":\"\"},\"colorscale\":[[0.0,\"#0d0887\"],[0.1111111111111111,\"#46039f\"],[0.2222222222222222,\"#7201a8\"],[0.3333333333333333,\"#9c179e\"],[0.4444444444444444,\"#bd3786\"],[0.5555555555555556,\"#d8576b\"],[0.6666666666666666,\"#ed7953\"],[0.7777777777777778,\"#fb9f3a\"],[0.8888888888888888,\"#fdca26\"],[1.0,\"#f0f921\"]]}],\"contourcarpet\":[{\"type\":\"contourcarpet\",\"colorbar\":{\"outlinewidth\":0,\"ticks\":\"\"}}],\"contour\":[{\"type\":\"contour\",\"colorbar\":{\"outlinewidth\":0,\"ticks\":\"\"},\"colorscale\":[[0.0,\"#0d0887\"],[0.1111111111111111,\"#46039f\"],[0.2222222222222222,\"#7201a8\"],[0.3333333333333333,\"#9c179e\"],[0.4444444444444444,\"#bd3786\"],[0.5555555555555556,\"#d8576b\"],[0.6666666666666666,\"#ed7953\"],[0.7777777777777778,\"#fb9f3a\"],[0.8888888888888888,\"#fdca26\"],[1.0,\"#f0f921\"]]}],\"surface\":[{\"type\":\"surface\",\"colorbar\":{\"outlinewidth\":0,\"ticks\":\"\"},\"colorscale\":[[0.0,\"#0d0887\"],[0.1111111111111111,\"#46039f\"],[0.2222222222222222,\"#7201a8\"],[0.3333333333333333,\"#9c179e\"],[0.4444444444444444,\"#bd3786\"],[0.5555555555555556,\"#d8576b\"],[0.6666666666666666,\"#ed7953\"],[0.7777777777777778,\"#fb9f3a\"],[0.8888888888888888,\"#fdca26\"],[1.0,\"#f0f921\"]]}],\"mesh3d\":[{\"type\":\"mesh3d\",\"colorbar\":{\"outlinewidth\":0,\"ticks\":\"\"}}],\"scatter\":[{\"fillpattern\":{\"fillmode\":\"overlay\",\"size\":10,\"solidity\":0.2},\"type\":\"scatter\"}],\"parcoords\":[{\"type\":\"parcoords\",\"line\":{\"colorbar\":{\"outlinewidth\":0,\"ticks\":\"\"}}}],\"scatterpolargl\":[{\"type\":\"scatterpolargl\",\"marker\":{\"colorbar\":{\"outlinewidth\":0,\"ticks\":\"\"}}}],\"bar\":[{\"error_x\":{\"color\":\"#2a3f5f\"},\"error_y\":{\"color\":\"#2a3f5f\"},\"marker\":{\"line\":{\"color\":\"#E5ECF6\",\"width\":0.5},\"pattern\":{\"fillmode\":\"overlay\",\"size\":10,\"solidity\":0.2}},\"type\":\"bar\"}],\"scattergeo\":[{\"type\":\"scattergeo\",\"marker\":{\"colorbar\":{\"outlinewidth\":0,\"ticks\":\"\"}}}],\"scatterpolar\":[{\"type\":\"scatterpolar\",\"marker\":{\"colorbar\":{\"outlinewidth\":0,\"ticks\":\"\"}}}],\"histogram\":[{\"marker\":{\"pattern\":{\"fillmode\":\"overlay\",\"size\":10,\"solidity\":0.2}},\"type\":\"histogram\"}],\"scattergl\":[{\"type\":\"scattergl\",\"marker\":{\"colorbar\":{\"outlinewidth\":0,\"ticks\":\"\"}}}],\"scatter3d\":[{\"type\":\"scatter3d\",\"line\":{\"colorbar\":{\"outlinewidth\":0,\"ticks\":\"\"}},\"marker\":{\"colorbar\":{\"outlinewidth\":0,\"ticks\":\"\"}}}],\"scattermapbox\":[{\"type\":\"scattermapbox\",\"marker\":{\"colorbar\":{\"outlinewidth\":0,\"ticks\":\"\"}}}],\"scatterternary\":[{\"type\":\"scatterternary\",\"marker\":{\"colorbar\":{\"outlinewidth\":0,\"ticks\":\"\"}}}],\"scattercarpet\":[{\"type\":\"scattercarpet\",\"marker\":{\"colorbar\":{\"outlinewidth\":0,\"ticks\":\"\"}}}],\"carpet\":[{\"aaxis\":{\"endlinecolor\":\"#2a3f5f\",\"gridcolor\":\"white\",\"linecolor\":\"white\",\"minorgridcolor\":\"white\",\"startlinecolor\":\"#2a3f5f\"},\"baxis\":{\"endlinecolor\":\"#2a3f5f\",\"gridcolor\":\"white\",\"linecolor\":\"white\",\"minorgridcolor\":\"white\",\"startlinecolor\":\"#2a3f5f\"},\"type\":\"carpet\"}],\"table\":[{\"cells\":{\"fill\":{\"color\":\"#EBF0F8\"},\"line\":{\"color\":\"white\"}},\"header\":{\"fill\":{\"color\":\"#C8D4E3\"},\"line\":{\"color\":\"white\"}},\"type\":\"table\"}],\"barpolar\":[{\"marker\":{\"line\":{\"color\":\"#E5ECF6\",\"width\":0.5},\"pattern\":{\"fillmode\":\"overlay\",\"size\":10,\"solidity\":0.2}},\"type\":\"barpolar\"}],\"pie\":[{\"automargin\":true,\"type\":\"pie\"}]},\"layout\":{\"autotypenumbers\":\"strict\",\"colorway\":[\"#636efa\",\"#EF553B\",\"#00cc96\",\"#ab63fa\",\"#FFA15A\",\"#19d3f3\",\"#FF6692\",\"#B6E880\",\"#FF97FF\",\"#FECB52\"],\"font\":{\"color\":\"#2a3f5f\"},\"hovermode\":\"closest\",\"hoverlabel\":{\"align\":\"left\"},\"paper_bgcolor\":\"white\",\"plot_bgcolor\":\"#E5ECF6\",\"polar\":{\"bgcolor\":\"#E5ECF6\",\"angularaxis\":{\"gridcolor\":\"white\",\"linecolor\":\"white\",\"ticks\":\"\"},\"radialaxis\":{\"gridcolor\":\"white\",\"linecolor\":\"white\",\"ticks\":\"\"}},\"ternary\":{\"bgcolor\":\"#E5ECF6\",\"aaxis\":{\"gridcolor\":\"white\",\"linecolor\":\"white\",\"ticks\":\"\"},\"baxis\":{\"gridcolor\":\"white\",\"linecolor\":\"white\",\"ticks\":\"\"},\"caxis\":{\"gridcolor\":\"white\",\"linecolor\":\"white\",\"ticks\":\"\"}},\"coloraxis\":{\"colorbar\":{\"outlinewidth\":0,\"ticks\":\"\"}},\"colorscale\":{\"sequential\":[[0.0,\"#0d0887\"],[0.1111111111111111,\"#46039f\"],[0.2222222222222222,\"#7201a8\"],[0.3333333333333333,\"#9c179e\"],[0.4444444444444444,\"#bd3786\"],[0.5555555555555556,\"#d8576b\"],[0.6666666666666666,\"#ed7953\"],[0.7777777777777778,\"#fb9f3a\"],[0.8888888888888888,\"#fdca26\"],[1.0,\"#f0f921\"]],\"sequentialminus\":[[0.0,\"#0d0887\"],[0.1111111111111111,\"#46039f\"],[0.2222222222222222,\"#7201a8\"],[0.3333333333333333,\"#9c179e\"],[0.4444444444444444,\"#bd3786\"],[0.5555555555555556,\"#d8576b\"],[0.6666666666666666,\"#ed7953\"],[0.7777777777777778,\"#fb9f3a\"],[0.8888888888888888,\"#fdca26\"],[1.0,\"#f0f921\"]],\"diverging\":[[0,\"#8e0152\"],[0.1,\"#c51b7d\"],[0.2,\"#de77ae\"],[0.3,\"#f1b6da\"],[0.4,\"#fde0ef\"],[0.5,\"#f7f7f7\"],[0.6,\"#e6f5d0\"],[0.7,\"#b8e186\"],[0.8,\"#7fbc41\"],[0.9,\"#4d9221\"],[1,\"#276419\"]]},\"xaxis\":{\"gridcolor\":\"white\",\"linecolor\":\"white\",\"ticks\":\"\",\"title\":{\"standoff\":15},\"zerolinecolor\":\"white\",\"automargin\":true,\"zerolinewidth\":2},\"yaxis\":{\"gridcolor\":\"white\",\"linecolor\":\"white\",\"ticks\":\"\",\"title\":{\"standoff\":15},\"zerolinecolor\":\"white\",\"automargin\":true,\"zerolinewidth\":2},\"scene\":{\"xaxis\":{\"backgroundcolor\":\"#E5ECF6\",\"gridcolor\":\"white\",\"linecolor\":\"white\",\"showbackground\":true,\"ticks\":\"\",\"zerolinecolor\":\"white\",\"gridwidth\":2},\"yaxis\":{\"backgroundcolor\":\"#E5ECF6\",\"gridcolor\":\"white\",\"linecolor\":\"white\",\"showbackground\":true,\"ticks\":\"\",\"zerolinecolor\":\"white\",\"gridwidth\":2},\"zaxis\":{\"backgroundcolor\":\"#E5ECF6\",\"gridcolor\":\"white\",\"linecolor\":\"white\",\"showbackground\":true,\"ticks\":\"\",\"zerolinecolor\":\"white\",\"gridwidth\":2}},\"shapedefaults\":{\"line\":{\"color\":\"#2a3f5f\"}},\"annotationdefaults\":{\"arrowcolor\":\"#2a3f5f\",\"arrowhead\":0,\"arrowwidth\":1},\"geo\":{\"bgcolor\":\"white\",\"landcolor\":\"#E5ECF6\",\"subunitcolor\":\"white\",\"showland\":true,\"showlakes\":true,\"lakecolor\":\"white\"},\"title\":{\"x\":0.05},\"mapbox\":{\"style\":\"light\"}}},\"scene\":{\"domain\":{\"x\":[0.0,1.0],\"y\":[0.0,1.0]},\"xaxis\":{\"title\":{\"text\":\"x\"},\"showgrid\":false,\"zeroline\":false,\"showticklabels\":false},\"yaxis\":{\"title\":{\"text\":\"y\"},\"showgrid\":false,\"zeroline\":false,\"showticklabels\":false},\"zaxis\":{\"title\":{\"text\":\"z\"},\"showgrid\":false,\"zeroline\":false,\"showticklabels\":false}},\"legend\":{\"tracegroupgap\":0,\"itemsizing\":\"constant\"},\"margin\":{\"t\":60},\"autosize\":false,\"width\":800,\"height\":400},                        {\"responsive\": true}                    ).then(function(){\n",
       "                            \n",
       "var gd = document.getElementById('16ac32e7-fbd9-4699-afa7-9ea277d0fc90');\n",
       "var x = new MutationObserver(function (mutations, observer) {{\n",
       "        var display = window.getComputedStyle(gd).display;\n",
       "        if (!display || display === 'none') {{\n",
       "            console.log([gd, 'removed!']);\n",
       "            Plotly.purge(gd);\n",
       "            observer.disconnect();\n",
       "        }}\n",
       "}});\n",
       "\n",
       "// Listen for the removal of the full notebook cells\n",
       "var notebookContainer = gd.closest('#notebook-container');\n",
       "if (notebookContainer) {{\n",
       "    x.observe(notebookContainer, {childList: true});\n",
       "}}\n",
       "\n",
       "// Listen for the clearing of the current output cell\n",
       "var outputEl = gd.closest('.output');\n",
       "if (outputEl) {{\n",
       "    x.observe(outputEl, {childList: true});\n",
       "}}\n",
       "\n",
       "                        })                };                });            </script>        </div>"
      ]
     },
     "metadata": {},
     "output_type": "display_data"
    }
   ],
   "source": [
    "import plotly.express as px\n",
    "\n",
    "fig=px.scatter_3d(x=dataset[0]['atom_xyz'][:,0].detach(),\n",
    "                  y=dataset[0]['atom_xyz'][:,1].detach(),\n",
    "                  z=dataset[0]['atom_xyz'][:,2].detach(), \n",
    "                  size=dataset[0]['atom_rad'].detach()*10)\n",
    "fig.update_layout(\n",
    "    autosize=False, \n",
    "    width=800, \n",
    "    height=400,\n",
    "    scene = dict(\n",
    "        xaxis = dict(showgrid=False, zeroline=False, showticklabels=False),\n",
    "        yaxis = dict(showgrid=False, zeroline=False, showticklabels=False),\n",
    "        zaxis = dict(showgrid=False, zeroline=False, showticklabels=False),\n",
    "    )\n",
    ")"
   ]
  },
  {
   "cell_type": "code",
   "execution_count": 191,
   "metadata": {},
   "outputs": [
    {
     "data": {
      "text/plain": [
       "dict_keys(['sequence', 'target_xyz', 'target_normals', 'bb_xyz', 'atom_xyz', 'atom_types', 'atom_rad'])"
      ]
     },
     "execution_count": 191,
     "metadata": {},
     "output_type": "execute_result"
    }
   ],
   "source": [
    "dataset[0].keys()"
   ]
  }
 ],
 "metadata": {
  "kernelspec": {
   "display_name": "dmasif_upd",
   "language": "python",
   "name": "dmasif_upd"
  },
  "language_info": {
   "codemirror_mode": {
    "name": "ipython",
    "version": 3
   },
   "file_extension": ".py",
   "mimetype": "text/x-python",
   "name": "python",
   "nbconvert_exporter": "python",
   "pygments_lexer": "ipython3",
   "version": "3.7.7"
  }
 },
 "nbformat": 4,
 "nbformat_minor": 2
}
